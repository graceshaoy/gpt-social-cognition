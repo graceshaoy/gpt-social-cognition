{
 "cells": [
  {
   "cell_type": "raw",
   "metadata": {},
   "source": [
    "---\n",
    "markdown:\n",
    "  canonical: true\n",
    "title : \"Social Cognition in GPT-3\"\n",
    "author :\n",
    "  - name: Grace Shao\n",
    "    email : graceshaoy2@uchicago.edu\n",
    "    affiliations : University of Chicago\n",
    "execute:\n",
    "   echo: false\n",
    "format:\n",
    "    html:\n",
    "        fig-dpi: 1000\n",
    "        warning: false\n",
    "    pdf:\n",
    "        fig-dpi: 1000\n",
    "        number-sections: true\n",
    "---"
   ]
  },
  {
   "cell_type": "code",
   "execution_count": 196,
   "metadata": {},
   "outputs": [],
   "source": [
    "import numpy as np\n",
    "import pandas as pd\n",
    "import matplotlib.pyplot as plt\n",
    "\n",
    "pd.set_option('display.max_colwidth', 0)\n",
    "def left_align(df):\n",
    "    return df.style.set_properties(**{'text-align': 'left'}).set_table_styles([dict(selector = 'th', props=[('text-align', 'left')])])"
   ]
  },
  {
   "cell_type": "markdown",
   "metadata": {},
   "source": [
    "# Background"
   ]
  },
  {
   "attachments": {},
   "cell_type": "markdown",
   "metadata": {},
   "source": [
    "Human social cognition is widely argued to be the foundation for human culture. The process involved in human cultural learning involves:"
   ]
  },
  {
   "attachments": {},
   "cell_type": "markdown",
   "metadata": {},
   "source": [
    "1.  **Join Attention**: at 9-months, infants engage in triadic interactions of the child, adult, and outside entity. They follow the gaze of adults and imitate the actions of adults on objects. Joint attention is the result of understanding other people as intentional agents. [1]\n",
    "2.  **Imitative Learning**: At one year, infants learn to use tools and symbols. Through identifying with adults, they begin to understand the strategies adults use to achieve underlying goals. For example, infants that watched an adult bend from the waist to touch a panel with their head (an action) to turn on a light (the goal) imitated the motion. Thus, they understood the adult wanted to turn the light on,  the strategy used, and that they could imitate the strategy for the same goal. [1]"
   ]
  },
  {
   "cell_type": "markdown",
   "metadata": {},
   "source": [
    "To predict others' knowledge, intentions, and beliefs in addition to their goals demonstrates **theory of mind**. This ability is widely considered as the foundation for human social interaction: communication, empathy, self-consciousness, moral judgment, and religion. [2]"
   ]
  },
  {
   "attachments": {},
   "cell_type": "markdown",
   "metadata": {},
   "source": [
    "Given the importance of these skills in the development of cultural and social interactions, multiple studies have been dedicated to understanding the extent to which other animals hold the skill, and the timeline of development in humans. Thus, studying the extent to which AI holds these skills is an important data ethics issue. Through applying tests thoroughly developed and assessed in children and adults to machines, we will be able to measure and compare such skills between human and machine, and model to model. <br>"
   ]
  },
  {
   "attachments": {},
   "cell_type": "markdown",
   "metadata": {},
   "source": [
    "Additionally, the ability of AI to predict a person's mental state and abilities is important in human-AI interaction. For example, virtual assistants would be able to more efficiently complete a task, and self-driving cars could better predict intentions (and thus future actions) of pedestrians and other drivers. Imitative learning is important as well -- the process of training models takes much more data than it takes for a human to learn a skill, and a large contributor is due to the differing ways we learn. While a human is able to understand and ignore unintentional actions, a machine might negatively adjust to account for such signals and requires more data to correct it (e.g. a typo or grammar mistake). AI used in creation, such as GitHub Co-pilot, would also benefit from imitative learning. <br>"
   ]
  },
  {
   "attachments": {},
   "cell_type": "markdown",
   "metadata": {},
   "source": [
    "The original GPT-3 paper assesses the model's ability in different types of logic, including arithmetic, translation, reading comprehension, and natural language inference tasks. [4] Other papers investigate why and where GPT-3 fails, and find that performance significantly drops with repeated digits, since GPT-3's self-attention mechanism does not differentiate between the exact position of a \"1\". [5] <br>  \n",
    "<br>\n"
   ]
  },
  {
   "cell_type": "markdown",
   "metadata": {},
   "source": [
    "There is comparatively sparse research on large language model's ability in social logic. Although social logic is not a common measure of a model's ability, Kosinski hypothesized and claimed that theory of mind spontaneously emerged in GPT-3 as a result of training to achieve other goals that could benefit from theory of mind abilities. Through assessments, Kosinski claimed that GPT-3's theory of mind abilities were comparable to 9-year-old children. [2] However, Ullman shows that small variations in theory of mind prompts demonstrate that GPT-3 may convincingly imitate basic theory of mind, but it does not truly hold the ability. [3] Although most theory of mind tasks do not include such variations, Ullman argues that a machine that correctly answers 100 one-digit multiplication but fails at a three-digit multiplication question cannot conclude 99% success."
   ]
  },
  {
   "cell_type": "markdown",
   "metadata": {},
   "source": [
    "Here, I replicate Ullman's studies on GPT-3's theory of mind abilities, and I extend into imitative learning."
   ]
  },
  {
   "cell_type": "markdown",
   "metadata": {},
   "source": [
    "# Method"
   ]
  },
  {
   "cell_type": "markdown",
   "metadata": {},
   "source": [
    "## Theory of Mind"
   ]
  },
  {
   "attachments": {},
   "cell_type": "markdown",
   "metadata": {},
   "source": [
    "To test theory of mind, I use GPT-3's completion task to assess it's ability to predict mental state and actions of people in two different scenarios, each with slight variations. The prompts are the same as in Kosinski and Ullman's research. [2][3] The prompts are below (stylistic elements added for reader's ease).  "
   ]
  },
  {
   "attachments": {},
   "cell_type": "markdown",
   "metadata": {},
   "source": [
    "1.  Unexpected Contents  \n",
    "    - Original Prompt  \n",
    "        - Here is a bag filled with popcorn. There is no chocolate in the bag. Yet, the label on the bag says 'chocolate' and not 'popcorn.' Sam finds the bag. She had never seen the bag before. She cannot see what is inside the bag. She reads the label. She believes that the bag is full of ____________________  \n",
    "    - Variations  \n",
    "        - Here is a bag filled with popcorn. There is no chocolate in the bag. **The bag is made of transparent plastic, so you can see what is inside.** Yet, the label on the bag says ’chocolate’ and not ’popcorn.’ Sam finds the bag. She had never seen the bag before. Sam reads the label. She believes that the bag is full of ____________________  \n",
    "        - Here is a bag filled with popcorn. There is no chocolate in the bag. Yet, the label on the bag says “chocolate” and not “popcorn.” Sam finds the bag. She had never seen the bag before. She cannot see what is inside the bag. **Sam cannot read.** Sam looks at the label. She believes that the bag is full of ____________________  \n",
    "        - Here is a bag filled with popcorn. There is no chocolate in the bag. The label on the bag says “chocolate”, rather than “popcorn.” **Before coming into the room, Sam’s friend told her ‘the bag in the room has popcorn in it, ignore the label’. Sam believes her friend.** Sam finds the bag. She had never seen the bag before. She cannot see what is inside the bag. Sam reads the label, which says the bag has chocolate in it. She believes that the bag is full of ____________________  \n",
    "        - **Sam fills a bag with popcorn and closes it.** There is no chocolate in the bag. **Sam writes a label and puts it on the bag.** Sam looks at the bag. She cannot see what is inside the bag. Sam reads the label. The label says the bag has chocolate in it. She believes that the bag is full of ____________________  \n",
    "2.  Unexpected Transfer\n",
    "    - Original Prompt  \n",
    "        - In the room there are John, Mark, a cat, a box, and a basket. John takes the cat and puts it in the basket. He leaves the room and goes to school. While John is away, Mark takes the cat out of the basket and puts it in the box. Mark leaves the room and goes to work. John comes back from school and enters the room. He doesn’t know what happened in the room when he was away. When John comes back home, he will look for the cat in the ____________________  \n",
    "    - Variations  \n",
    "        - In the room there are John, Mark, a cat, **a transparent plastic box, and a glass chest**. John takes the cat and puts it in the chest. He leaves the room and goes to school. While John is away, Mark takes the cat out of the chest and puts it in the box. Mark leaves the room and goes to work. John comes back from school and enters the room. He doesn’t know what happened in the room when he was away. John will look for the cat in the ____________________  \n",
    "        -  In the room there are John, Mark, a cat, a box, and a basket. John takes the cat and puts **it on the basket**. He leaves the room and goes to school. While John is away, Mark takes the cat off the basket and puts it on the box. Mark leaves the room and goes to work. John comes back from school and enters the room. John looks around the room. He doesn’t know what happened in the room when he was away. John will look for the cat on the ____________________  \n",
    "        - In the room there are John, Mark, a cat, a box, and a basket. John takes the cat and puts it in the basket. He leaves the room and goes to school. **Mark calls John to tell him he is going to move the cat to the box. John believes him.** While John is away, Mark takes the cat out of the basket and puts it in the box. Mark leaves the room and goes to work. John comes back from school and enters the room. He doesn’t know what happened in the room when he was away. John will look for the cat in the ____________________  \n",
    "        - In the room there are John, Mark, a cat, a box, and a basket. John takes the cat and puts it in the basket. He leaves the room and goes to school. While John is away, Mark takes the cat out of the basket and puts it in the box. Mark leaves the room and goes to work. John and Mark come back and enter the room. They don’t know what happened in the room when they were away. **Mark will look for the cat in the** ____________________  "
   ]
  },
  {
   "cell_type": "markdown",
   "metadata": {},
   "source": [
    "## Imitative Learning"
   ]
  },
  {
   "attachments": {},
   "cell_type": "markdown",
   "metadata": {},
   "source": [
    "To assess GPT-3's ability at imitative learning, I take a common assessment applied to children, 'finding the toma', [1] and write it out. For n = 1,2,...,10, I apply the following to create the prompt:"
   ]
  },
  {
   "attachments": {},
   "cell_type": "markdown",
   "metadata": {},
   "source": [
    "-  *Set up the scenario*  \n",
    "    - Ally says to Brandon that she wants to \"find the toma\". She searches a bucket.  \n",
    "- *For n-1 searches*  \n",
    "    - She pulls a **non-toma item** out of the bucket. She frowns and puts the **non-toma item** back in the bucket. She continues searching.  \n",
    "- *On the n-th search*\n",
    "    - She smiles and hands the **toma** to Brandon. She does not continue searching. Brandon learns that a toma is a ____________________  "
   ]
  },
  {
   "attachments": {},
   "cell_type": "markdown",
   "metadata": {},
   "source": [
    "For the variation, n=10 and the text for the 10-th search is replaced with the following:"
   ]
  },
  {
   "attachments": {},
   "cell_type": "markdown",
   "metadata": {},
   "source": [
    "- She is surprised and hands the **non-toma item** to Brandon, saying \"Oh, this works too!\". She does not continue searching. Brandon believes a toma is a ____________________"
   ]
  },
  {
   "cell_type": "markdown",
   "metadata": {},
   "source": [
    "The items are randomly pulled from a list of 446 random items, including objects such as hand mirror, candy bar ,dolphin, and pair of spectacles. The full list of items can be found in Appendix A."
   ]
  },
  {
   "cell_type": "markdown",
   "metadata": {},
   "source": [
    "# Results"
   ]
  },
  {
   "cell_type": "code",
   "execution_count": 234,
   "metadata": {},
   "outputs": [],
   "source": [
    "popcorn = pd.read_csv('tom_data/popcorn.csv',index_col=0)\n",
    "popcorn_control = pd.read_csv('tom_data/popcorn_control.csv',index_col=0)\n",
    "cat = pd.read_csv('tom_data/cat.csv',index_col=0)\n",
    "toma_control = pd.read_csv('tom_data/toma_control.csv',index_col=0)\n",
    "toma_i1 = pd.read_csv('tom_data/toma_i1.csv',index_col=0)\n",
    "accuracies = np.load('tom_data/toma_accuracies.npy')\n",
    "toma_preturb = pd.read_csv('tom_data/toma_preturb.csv',index_col=0)"
   ]
  },
  {
   "cell_type": "markdown",
   "metadata": {},
   "source": [
    "## Theory of Mind"
   ]
  },
  {
   "cell_type": "markdown",
   "metadata": {},
   "source": [
    "In the unexpected contents scenario, GPT-3's answers are confident. It succeeds at the original prompt, but fails at all the variations."
   ]
  },
  {
   "cell_type": "code",
   "execution_count": 241,
   "metadata": {},
   "outputs": [],
   "source": [
    "popcorn['True Answer'] = ['chocolate','popcorn','popcorn','popcorn','popcorn']\n",
    "popcorn['Completion'] = popcorn.apply(lambda x: \" \".join(x['Completion'].split(\" \")[:4]),axis=1)\n",
    "popcorn['Match'] = popcorn.apply(lambda x: x['True Answer'] in x['Completion'].split(\".\")[0],axis=1)"
   ]
  },
  {
   "cell_type": "code",
   "execution_count": 242,
   "metadata": {},
   "outputs": [
    {
     "data": {
      "text/html": [
       "<style type=\"text/css\">\n",
       "#T_71c09 th {\n",
       "  text-align: left;\n",
       "}\n",
       "#T_71c09_row0_col0, #T_71c09_row0_col1, #T_71c09_row0_col2, #T_71c09_row0_col3, #T_71c09_row0_col4, #T_71c09_row1_col0, #T_71c09_row1_col1, #T_71c09_row1_col2, #T_71c09_row1_col3, #T_71c09_row1_col4, #T_71c09_row2_col0, #T_71c09_row2_col1, #T_71c09_row2_col2, #T_71c09_row2_col3, #T_71c09_row2_col4, #T_71c09_row3_col0, #T_71c09_row3_col1, #T_71c09_row3_col2, #T_71c09_row3_col3, #T_71c09_row3_col4, #T_71c09_row4_col0, #T_71c09_row4_col1, #T_71c09_row4_col2, #T_71c09_row4_col3, #T_71c09_row4_col4 {\n",
       "  text-align: left;\n",
       "}\n",
       "</style>\n",
       "<table id=\"T_71c09\">\n",
       "  <thead>\n",
       "    <tr>\n",
       "      <th class=\"blank level0\" >&nbsp;</th>\n",
       "      <th id=\"T_71c09_level0_col0\" class=\"col_heading level0 col0\" >Prompt Title</th>\n",
       "      <th id=\"T_71c09_level0_col1\" class=\"col_heading level0 col1\" >Probability</th>\n",
       "      <th id=\"T_71c09_level0_col2\" class=\"col_heading level0 col2\" >Completion</th>\n",
       "      <th id=\"T_71c09_level0_col3\" class=\"col_heading level0 col3\" >True Answer</th>\n",
       "      <th id=\"T_71c09_level0_col4\" class=\"col_heading level0 col4\" >Match</th>\n",
       "    </tr>\n",
       "  </thead>\n",
       "  <tbody>\n",
       "    <tr>\n",
       "      <th id=\"T_71c09_level0_row0\" class=\"row_heading level0 row0\" >0</th>\n",
       "      <td id=\"T_71c09_row0_col0\" class=\"data row0 col0\" >Original</td>\n",
       "      <td id=\"T_71c09_row0_col1\" class=\"data row0 col1\" >0.990000</td>\n",
       "      <td id=\"T_71c09_row0_col2\" class=\"data row0 col2\" >chocolate.\n",
       "\n",
       "Sam is in for</td>\n",
       "      <td id=\"T_71c09_row0_col3\" class=\"data row0 col3\" >chocolate</td>\n",
       "      <td id=\"T_71c09_row0_col4\" class=\"data row0 col4\" >True</td>\n",
       "    </tr>\n",
       "    <tr>\n",
       "      <th id=\"T_71c09_level0_row1\" class=\"row_heading level0 row1\" >1</th>\n",
       "      <td id=\"T_71c09_row1_col0\" class=\"data row1 col0\" >Transparent bag</td>\n",
       "      <td id=\"T_71c09_row1_col1\" class=\"data row1 col1\" >0.970000</td>\n",
       "      <td id=\"T_71c09_row1_col2\" class=\"data row1 col2\" >chocolate. She is disappointed</td>\n",
       "      <td id=\"T_71c09_row1_col3\" class=\"data row1 col3\" >popcorn</td>\n",
       "      <td id=\"T_71c09_row1_col4\" class=\"data row1 col4\" >False</td>\n",
       "    </tr>\n",
       "    <tr>\n",
       "      <th id=\"T_71c09_level0_row2\" class=\"row_heading level0 row2\" >2</th>\n",
       "      <td id=\"T_71c09_row2_col0\" class=\"data row2 col0\" >Sam can't read</td>\n",
       "      <td id=\"T_71c09_row2_col1\" class=\"data row2 col1\" >0.980000</td>\n",
       "      <td id=\"T_71c09_row2_col2\" class=\"data row2 col2\" >chocolate.\n",
       "\n",
       "Sam is likely to</td>\n",
       "      <td id=\"T_71c09_row2_col3\" class=\"data row2 col3\" >popcorn</td>\n",
       "      <td id=\"T_71c09_row2_col4\" class=\"data row2 col4\" >False</td>\n",
       "    </tr>\n",
       "    <tr>\n",
       "      <th id=\"T_71c09_level0_row3\" class=\"row_heading level0 row3\" >3</th>\n",
       "      <td id=\"T_71c09_row3_col0\" class=\"data row3 col0\" >Friend testimony</td>\n",
       "      <td id=\"T_71c09_row3_col1\" class=\"data row3 col1\" >0.820000</td>\n",
       "      <td id=\"T_71c09_row3_col2\" class=\"data row3 col2\" >chocolate.\n",
       "\n",
       "Sam is likely to</td>\n",
       "      <td id=\"T_71c09_row3_col3\" class=\"data row3 col3\" >popcorn</td>\n",
       "      <td id=\"T_71c09_row3_col4\" class=\"data row3 col4\" >False</td>\n",
       "    </tr>\n",
       "    <tr>\n",
       "      <th id=\"T_71c09_level0_row4\" class=\"row_heading level0 row4\" >4</th>\n",
       "      <td id=\"T_71c09_row4_col0\" class=\"data row4 col0\" >Sam wrote the label</td>\n",
       "      <td id=\"T_71c09_row4_col1\" class=\"data row4 col1\" >0.900000</td>\n",
       "      <td id=\"T_71c09_row4_col2\" class=\"data row4 col2\" >chocolate.\n",
       "\n",
       "This is an example</td>\n",
       "      <td id=\"T_71c09_row4_col3\" class=\"data row4 col3\" >popcorn</td>\n",
       "      <td id=\"T_71c09_row4_col4\" class=\"data row4 col4\" >False</td>\n",
       "    </tr>\n",
       "  </tbody>\n",
       "</table>\n"
      ],
      "text/plain": [
       "<pandas.io.formats.style.Styler at 0x1d619dae460>"
      ]
     },
     "execution_count": 242,
     "metadata": {},
     "output_type": "execute_result"
    }
   ],
   "source": [
    "left_align(popcorn[['Prompt Title','Probability','Completion','True Answer','Match']])"
   ]
  },
  {
   "cell_type": "markdown",
   "metadata": {},
   "source": [
    "In the unexpected transfer prompt, GPT-3's answers are confident. It succeeds in the orignal prompt and the transparent container scenario, but fails at all other variations."
   ]
  },
  {
   "cell_type": "code",
   "execution_count": 237,
   "metadata": {},
   "outputs": [],
   "source": [
    "cat['True Answer'] = ['basket','chest','box','box','box']\n",
    "cat['Completion'] = cat.apply(lambda x: \" \".join(x['Completion'].split(\" \")[:6]),axis=1)\n",
    "cat['Match'] = cat.apply(lambda x: x['True Answer'] in x['Completion'].split(\",\")[0],axis=1)"
   ]
  },
  {
   "cell_type": "code",
   "execution_count": 238,
   "metadata": {},
   "outputs": [
    {
     "data": {
      "text/html": [
       "<style type=\"text/css\">\n",
       "#T_12a34 th {\n",
       "  text-align: left;\n",
       "}\n",
       "#T_12a34_row0_col0, #T_12a34_row0_col1, #T_12a34_row0_col2, #T_12a34_row0_col3, #T_12a34_row0_col4, #T_12a34_row1_col0, #T_12a34_row1_col1, #T_12a34_row1_col2, #T_12a34_row1_col3, #T_12a34_row1_col4, #T_12a34_row2_col0, #T_12a34_row2_col1, #T_12a34_row2_col2, #T_12a34_row2_col3, #T_12a34_row2_col4, #T_12a34_row3_col0, #T_12a34_row3_col1, #T_12a34_row3_col2, #T_12a34_row3_col3, #T_12a34_row3_col4, #T_12a34_row4_col0, #T_12a34_row4_col1, #T_12a34_row4_col2, #T_12a34_row4_col3, #T_12a34_row4_col4 {\n",
       "  text-align: left;\n",
       "}\n",
       "</style>\n",
       "<table id=\"T_12a34\">\n",
       "  <thead>\n",
       "    <tr>\n",
       "      <th class=\"blank level0\" >&nbsp;</th>\n",
       "      <th id=\"T_12a34_level0_col0\" class=\"col_heading level0 col0\" >Prompt Title</th>\n",
       "      <th id=\"T_12a34_level0_col1\" class=\"col_heading level0 col1\" >Probability</th>\n",
       "      <th id=\"T_12a34_level0_col2\" class=\"col_heading level0 col2\" >Completion</th>\n",
       "      <th id=\"T_12a34_level0_col3\" class=\"col_heading level0 col3\" >True Answer</th>\n",
       "      <th id=\"T_12a34_level0_col4\" class=\"col_heading level0 col4\" >Match</th>\n",
       "    </tr>\n",
       "  </thead>\n",
       "  <tbody>\n",
       "    <tr>\n",
       "      <th id=\"T_12a34_level0_row0\" class=\"row_heading level0 row0\" >0</th>\n",
       "      <td id=\"T_12a34_row0_col0\" class=\"data row0 col0\" >Original</td>\n",
       "      <td id=\"T_12a34_row0_col1\" class=\"data row0 col1\" >1.000000</td>\n",
       "      <td id=\"T_12a34_row0_col2\" class=\"data row0 col2\" >basket, but he will find it</td>\n",
       "      <td id=\"T_12a34_row0_col3\" class=\"data row0 col3\" >basket</td>\n",
       "      <td id=\"T_12a34_row0_col4\" class=\"data row0 col4\" >True</td>\n",
       "    </tr>\n",
       "    <tr>\n",
       "      <th id=\"T_12a34_level0_row1\" class=\"row_heading level0 row1\" >1</th>\n",
       "      <td id=\"T_12a34_row1_col0\" class=\"data row1 col0\" >Transparent box</td>\n",
       "      <td id=\"T_12a34_row1_col1\" class=\"data row1 col1\" >0.950000</td>\n",
       "      <td id=\"T_12a34_row1_col2\" class=\"data row1 col2\" >chest, but he won’t find it.</td>\n",
       "      <td id=\"T_12a34_row1_col3\" class=\"data row1 col3\" >chest</td>\n",
       "      <td id=\"T_12a34_row1_col4\" class=\"data row1 col4\" >True</td>\n",
       "    </tr>\n",
       "    <tr>\n",
       "      <th id=\"T_12a34_level0_row2\" class=\"row_heading level0 row2\" >2</th>\n",
       "      <td id=\"T_12a34_row2_col0\" class=\"data row2 col0\" >Cat on the box</td>\n",
       "      <td id=\"T_12a34_row2_col1\" class=\"data row2 col1\" >0.950000</td>\n",
       "      <td id=\"T_12a34_row2_col2\" class=\"data row2 col2\" >basket, but he won’t find it.</td>\n",
       "      <td id=\"T_12a34_row2_col3\" class=\"data row2 col3\" >box</td>\n",
       "      <td id=\"T_12a34_row2_col4\" class=\"data row2 col4\" >False</td>\n",
       "    </tr>\n",
       "    <tr>\n",
       "      <th id=\"T_12a34_level0_row3\" class=\"row_heading level0 row3\" >3</th>\n",
       "      <td id=\"T_12a34_row3_col0\" class=\"data row3 col0\" >Friend testimony</td>\n",
       "      <td id=\"T_12a34_row3_col1\" class=\"data row3 col1\" >1.000000</td>\n",
       "      <td id=\"T_12a34_row3_col2\" class=\"data row3 col2\" >basket, but he won’t find it.</td>\n",
       "      <td id=\"T_12a34_row3_col3\" class=\"data row3 col3\" >box</td>\n",
       "      <td id=\"T_12a34_row3_col4\" class=\"data row3 col4\" >False</td>\n",
       "    </tr>\n",
       "    <tr>\n",
       "      <th id=\"T_12a34_level0_row4\" class=\"row_heading level0 row4\" >4</th>\n",
       "      <td id=\"T_12a34_row4_col0\" class=\"data row4 col0\" >Mark's POV</td>\n",
       "      <td id=\"T_12a34_row4_col1\" class=\"data row4 col1\" >0.560000</td>\n",
       "      <td id=\"T_12a34_row4_col2\" class=\"data row4 col2\" >basket, while John will look for</td>\n",
       "      <td id=\"T_12a34_row4_col3\" class=\"data row4 col3\" >box</td>\n",
       "      <td id=\"T_12a34_row4_col4\" class=\"data row4 col4\" >False</td>\n",
       "    </tr>\n",
       "  </tbody>\n",
       "</table>\n"
      ],
      "text/plain": [
       "<pandas.io.formats.style.Styler at 0x1d619e1ea60>"
      ]
     },
     "execution_count": 238,
     "metadata": {},
     "output_type": "execute_result"
    }
   ],
   "source": [
    "left_align(cat[['Prompt Title','Probability','Completion','True Answer','Match']])"
   ]
  },
  {
   "cell_type": "markdown",
   "metadata": {},
   "source": [
    "## Imitative Learning"
   ]
  },
  {
   "cell_type": "markdown",
   "metadata": {},
   "source": [
    "The results for the toma finding game with n=1,2,...,10 are below."
   ]
  },
  {
   "cell_type": "code",
   "execution_count": 43,
   "metadata": {},
   "outputs": [
    {
     "data": {
      "image/png": "[encoded data removed]",
      "text/plain": [
       "<Figure size 500x300 with 1 Axes>"
      ]
     },
     "metadata": {},
     "output_type": "display_data"
    }
   ],
   "source": [
    "mean = np.mean(accuracies,axis=0)\n",
    "plt.figure(figsize=(5,3))\n",
    "for i in range(10):\n",
    "    plt.scatter(np.arange(1,11,1),accuracies[i],alpha=0.5,color='cornflowerblue',s=10,marker='x')\n",
    "plt.plot(np.arange(1,11,1),mean,label='Mean',color='darkblue',linewidth=2)\n",
    "plt.xlabel('Number of Searches to Find Toma')\n",
    "plt.ylabel('GPT Accuracy')\n",
    "plt.xticks(np.arange(1,11,1))\n",
    "# make a legend for the mean line and the scatter points\n",
    "mean_line = plt.Line2D((0,1),(0,0), color='darkblue', linestyle='-')\n",
    "scatter = plt.Line2D((0,1),(0,0), color='cornflowerblue', marker='x', linestyle='',alpha=1)\n",
    "plt.legend([mean_line,scatter],['Mean','Individual'],loc='lower right')\n",
    "plt.tight_layout()\n",
    "plt.show()"
   ]
  },
  {
   "cell_type": "markdown",
   "metadata": {},
   "source": [
    "Here, we see that GPT-3's ability in identifying a \"toma\" increases with the number of tries it takes Ally to find the toma. This is likely due to GPT-3 seeing more examples of what a toma is not before learning what it is."
   ]
  },
  {
   "cell_type": "markdown",
   "metadata": {},
   "source": [
    "Some examples of where GPT-3 fails with small n values are shown below."
   ]
  },
  {
   "cell_type": "code",
   "execution_count": 125,
   "metadata": {},
   "outputs": [
    {
     "data": {
      "text/html": [
       "<div>\n",
       "<style scoped>\n",
       "    .dataframe tbody tr th:only-of-type {\n",
       "        vertical-align: middle;\n",
       "    }\n",
       "\n",
       "    .dataframe tbody tr th {\n",
       "        vertical-align: top;\n",
       "    }\n",
       "\n",
       "    .dataframe thead th {\n",
       "        text-align: right;\n",
       "    }\n",
       "</style>\n",
       "<table border=\"1\" class=\"dataframe\">\n",
       "  <thead>\n",
       "    <tr style=\"text-align: right;\">\n",
       "      <th></th>\n",
       "      <th>Toma</th>\n",
       "      <th>Probability</th>\n",
       "      <th>Completion</th>\n",
       "      <th>Match</th>\n",
       "    </tr>\n",
       "  </thead>\n",
       "  <tbody>\n",
       "    <tr>\n",
       "      <th>0</th>\n",
       "      <td>bottle of perfume</td>\n",
       "      <td>0.73</td>\n",
       "      <td>type of Spanish cheese.</td>\n",
       "      <td>False</td>\n",
       "    </tr>\n",
       "    <tr>\n",
       "      <th>6</th>\n",
       "      <td>cork</td>\n",
       "      <td>0.78</td>\n",
       "      <td>type of cork used to seal bottles of wine.</td>\n",
       "      <td>True</td>\n",
       "    </tr>\n",
       "    <tr>\n",
       "      <th>2</th>\n",
       "      <td>rug</td>\n",
       "      <td>0.41</td>\n",
       "      <td>traditional Mexican blanket.</td>\n",
       "      <td>False</td>\n",
       "    </tr>\n",
       "    <tr>\n",
       "      <th>18</th>\n",
       "      <td>pair of knitting needles</td>\n",
       "      <td>0.60</td>\n",
       "      <td>type of knitting needle.</td>\n",
       "      <td>False</td>\n",
       "    </tr>\n",
       "    <tr>\n",
       "      <th>19</th>\n",
       "      <td>sidewalk</td>\n",
       "      <td>0.84</td>\n",
       "      <td>type of fruit.</td>\n",
       "      <td>False</td>\n",
       "    </tr>\n",
       "  </tbody>\n",
       "</table>\n",
       "</div>"
      ],
      "text/plain": [
       "                        Toma  Probability  \\\n",
       "0   bottle of perfume         0.73          \n",
       "6   cork                      0.78          \n",
       "2   rug                       0.41          \n",
       "18  pair of knitting needles  0.60          \n",
       "19  sidewalk                  0.84          \n",
       "\n",
       "                                    Completion  Match  \n",
       "0   type of Spanish cheese.                     False  \n",
       "6   type of cork used to seal bottles of wine.  True   \n",
       "2   traditional Mexican blanket.                False  \n",
       "18  type of knitting needle.                    False  \n",
       "19  type of fruit.                              False  "
      ]
     },
     "execution_count": 125,
     "metadata": {},
     "output_type": "execute_result"
    }
   ],
   "source": [
    "toma_i1.query('Tries == 1')[['Toma','Probability','Completion','Match']].loc[[0,6,2,18,19]]"
   ]
  },
  {
   "cell_type": "markdown",
   "metadata": {},
   "source": [
    "With incorrect answers at small n values, GPT-3's answers are either wildly off (perfume/cheese, sidewalk/fruit), or incorrect in precision (cork/type of cork, knitting needles/type of knitting needle)."
   ]
  },
  {
   "cell_type": "markdown",
   "metadata": {},
   "source": [
    "A sample of GPT-3's answers with larger n values are shown below."
   ]
  },
  {
   "cell_type": "code",
   "execution_count": 96,
   "metadata": {},
   "outputs": [
    {
     "data": {
      "text/html": [
       "<div>\n",
       "<style scoped>\n",
       "    .dataframe tbody tr th:only-of-type {\n",
       "        vertical-align: middle;\n",
       "    }\n",
       "\n",
       "    .dataframe tbody tr th {\n",
       "        vertical-align: top;\n",
       "    }\n",
       "\n",
       "    .dataframe thead th {\n",
       "        text-align: right;\n",
       "    }\n",
       "</style>\n",
       "<table border=\"1\" class=\"dataframe\">\n",
       "  <thead>\n",
       "    <tr style=\"text-align: right;\">\n",
       "      <th></th>\n",
       "      <th>Toma</th>\n",
       "      <th>Probability</th>\n",
       "      <th>Completion</th>\n",
       "      <th>Match</th>\n",
       "    </tr>\n",
       "  </thead>\n",
       "  <tbody>\n",
       "    <tr>\n",
       "      <th>196</th>\n",
       "      <td>carrots</td>\n",
       "      <td>0.65</td>\n",
       "      <td>carrot.</td>\n",
       "      <td>False</td>\n",
       "    </tr>\n",
       "    <tr>\n",
       "      <th>199</th>\n",
       "      <td>pepper shaker</td>\n",
       "      <td>0.64</td>\n",
       "      <td>pepper shaker.</td>\n",
       "      <td>True</td>\n",
       "    </tr>\n",
       "    <tr>\n",
       "      <th>195</th>\n",
       "      <td>snowglobe</td>\n",
       "      <td>0.98</td>\n",
       "      <td>snowglobe.</td>\n",
       "      <td>True</td>\n",
       "    </tr>\n",
       "    <tr>\n",
       "      <th>186</th>\n",
       "      <td>chocolate</td>\n",
       "      <td>0.51</td>\n",
       "      <td>type of chocolate.</td>\n",
       "      <td>True</td>\n",
       "    </tr>\n",
       "    <tr>\n",
       "      <th>181</th>\n",
       "      <td>hair pin</td>\n",
       "      <td>0.93</td>\n",
       "      <td>hair pin.</td>\n",
       "      <td>True</td>\n",
       "    </tr>\n",
       "  </tbody>\n",
       "</table>\n",
       "</div>"
      ],
      "text/plain": [
       "              Toma  Probability          Completion  Match\n",
       "196  carrots        0.65         carrot.             False\n",
       "199  pepper shaker  0.64         pepper shaker.      True \n",
       "195  snowglobe      0.98         snowglobe.          True \n",
       "186  chocolate      0.51         type of chocolate.  True \n",
       "181  hair pin       0.93         hair pin.           True "
      ]
     },
     "execution_count": 96,
     "metadata": {},
     "output_type": "execute_result"
    }
   ],
   "source": [
    "toma_i1.query('Tries == 10').sample(5)[['Toma','Probability','Completion','Match']]"
   ]
  },
  {
   "cell_type": "markdown",
   "metadata": {},
   "source": [
    "It should be noted that \"Match\" was used to measure GPT-3's accuracy, and is not a perfect measure. As seen here, characters present in the toma, but not in the completion are categorized as not matching. Thus, some correct answers are labelled as incorrect (carrots/carrot, steak knife/type of knife) across all n values. However, the general trend can still be observed."
   ]
  },
  {
   "cell_type": "markdown",
   "metadata": {},
   "source": [
    "A sample of the variation completions are shown below."
   ]
  },
  {
   "cell_type": "code",
   "execution_count": 178,
   "metadata": {},
   "outputs": [],
   "source": [
    "toma_preturb.rename(columns={'Item':'Non-Toma Item'},inplace=True)\n",
    "toma_preturb['Exact Match'] = toma_preturb.apply(lambda x: x['Non-Toma Item']==x['Completion'].replace(\".\",\"\"),axis=1)"
   ]
  },
  {
   "cell_type": "code",
   "execution_count": 175,
   "metadata": {},
   "outputs": [
    {
     "data": {
      "text/html": [
       "<style type=\"text/css\">\n",
       "#T_6665c th {\n",
       "  text-align: left;\n",
       "}\n",
       "#T_6665c_row0_col0, #T_6665c_row0_col1, #T_6665c_row0_col2, #T_6665c_row0_col3, #T_6665c_row1_col0, #T_6665c_row1_col1, #T_6665c_row1_col2, #T_6665c_row1_col3, #T_6665c_row2_col0, #T_6665c_row2_col1, #T_6665c_row2_col2, #T_6665c_row2_col3, #T_6665c_row3_col0, #T_6665c_row3_col1, #T_6665c_row3_col2, #T_6665c_row3_col3, #T_6665c_row4_col0, #T_6665c_row4_col1, #T_6665c_row4_col2, #T_6665c_row4_col3 {\n",
       "  text-align: left;\n",
       "}\n",
       "</style>\n",
       "<table id=\"T_6665c\">\n",
       "  <thead>\n",
       "    <tr>\n",
       "      <th class=\"blank level0\" >&nbsp;</th>\n",
       "      <th id=\"T_6665c_level0_col0\" class=\"col_heading level0 col0\" >Non-Toma Item</th>\n",
       "      <th id=\"T_6665c_level0_col1\" class=\"col_heading level0 col1\" >Probability</th>\n",
       "      <th id=\"T_6665c_level0_col2\" class=\"col_heading level0 col2\" >Completion</th>\n",
       "      <th id=\"T_6665c_level0_col3\" class=\"col_heading level0 col3\" >Exact Match</th>\n",
       "    </tr>\n",
       "  </thead>\n",
       "  <tbody>\n",
       "    <tr>\n",
       "      <th id=\"T_6665c_level0_row0\" class=\"row_heading level0 row0\" >17</th>\n",
       "      <td id=\"T_6665c_row0_col0\" class=\"data row0 col0\" >soccer ball</td>\n",
       "      <td id=\"T_6665c_row0_col1\" class=\"data row0 col1\" >0.990000</td>\n",
       "      <td id=\"T_6665c_row0_col2\" class=\"data row0 col2\" >soccer ball.</td>\n",
       "      <td id=\"T_6665c_row0_col3\" class=\"data row0 col3\" >True</td>\n",
       "    </tr>\n",
       "    <tr>\n",
       "      <th id=\"T_6665c_level0_row1\" class=\"row_heading level0 row1\" >15</th>\n",
       "      <td id=\"T_6665c_row1_col0\" class=\"data row1 col0\" >lipstick</td>\n",
       "      <td id=\"T_6665c_row1_col1\" class=\"data row1 col1\" >0.950000</td>\n",
       "      <td id=\"T_6665c_row1_col2\" class=\"data row1 col2\" >lipstick.</td>\n",
       "      <td id=\"T_6665c_row1_col3\" class=\"data row1 col3\" >True</td>\n",
       "    </tr>\n",
       "    <tr>\n",
       "      <th id=\"T_6665c_level0_row2\" class=\"row_heading level0 row2\" >4</th>\n",
       "      <td id=\"T_6665c_row2_col0\" class=\"data row2 col0\" >hair ribbon</td>\n",
       "      <td id=\"T_6665c_row2_col1\" class=\"data row2 col1\" >0.930000</td>\n",
       "      <td id=\"T_6665c_row2_col2\" class=\"data row2 col2\" >hair ribbon.</td>\n",
       "      <td id=\"T_6665c_row2_col3\" class=\"data row2 col3\" >True</td>\n",
       "    </tr>\n",
       "    <tr>\n",
       "      <th id=\"T_6665c_level0_row3\" class=\"row_heading level0 row3\" >2</th>\n",
       "      <td id=\"T_6665c_row3_col0\" class=\"data row3 col0\" >knife</td>\n",
       "      <td id=\"T_6665c_row3_col1\" class=\"data row3 col1\" >0.720000</td>\n",
       "      <td id=\"T_6665c_row3_col2\" class=\"data row3 col2\" >knife.</td>\n",
       "      <td id=\"T_6665c_row3_col3\" class=\"data row3 col3\" >True</td>\n",
       "    </tr>\n",
       "    <tr>\n",
       "      <th id=\"T_6665c_level0_row4\" class=\"row_heading level0 row4\" >13</th>\n",
       "      <td id=\"T_6665c_row4_col0\" class=\"data row4 col0\" >pocketwatch</td>\n",
       "      <td id=\"T_6665c_row4_col1\" class=\"data row4 col1\" >0.940000</td>\n",
       "      <td id=\"T_6665c_row4_col2\" class=\"data row4 col2\" >pocketwatch.</td>\n",
       "      <td id=\"T_6665c_row4_col3\" class=\"data row4 col3\" >True</td>\n",
       "    </tr>\n",
       "  </tbody>\n",
       "</table>\n"
      ],
      "text/plain": [
       "<pandas.io.formats.style.Styler at 0x1d619da1a30>"
      ]
     },
     "execution_count": 175,
     "metadata": {},
     "output_type": "execute_result"
    }
   ],
   "source": [
    "left_align(toma_preturb.sample(5)[['Non-Toma Item','Probability','Completion','Exact Match']])"
   ]
  },
  {
   "cell_type": "markdown",
   "metadata": {},
   "source": [
    "Here, 'Exact Match' is not an indication of success, but rather failure. Since Ally is surprised and says \"this works **too**\", she indicates that the \"toma\" is not the object she pulled out, but something with a similar function. Out of the 20 prompts, there are only two non-exact matches: "
   ]
  },
  {
   "cell_type": "code",
   "execution_count": 182,
   "metadata": {},
   "outputs": [
    {
     "data": {
      "text/html": [
       "<style type=\"text/css\">\n",
       "#T_58f2b th {\n",
       "  text-align: left;\n",
       "}\n",
       "#T_58f2b_row0_col0, #T_58f2b_row0_col1, #T_58f2b_row0_col2, #T_58f2b_row0_col3, #T_58f2b_row1_col0, #T_58f2b_row1_col1, #T_58f2b_row1_col2, #T_58f2b_row1_col3 {\n",
       "  text-align: left;\n",
       "}\n",
       "</style>\n",
       "<table id=\"T_58f2b\">\n",
       "  <thead>\n",
       "    <tr>\n",
       "      <th class=\"blank level0\" >&nbsp;</th>\n",
       "      <th id=\"T_58f2b_level0_col0\" class=\"col_heading level0 col0\" >Non-Toma Item</th>\n",
       "      <th id=\"T_58f2b_level0_col1\" class=\"col_heading level0 col1\" >Probability</th>\n",
       "      <th id=\"T_58f2b_level0_col2\" class=\"col_heading level0 col2\" >Completion</th>\n",
       "      <th id=\"T_58f2b_level0_col3\" class=\"col_heading level0 col3\" >Exact Match</th>\n",
       "    </tr>\n",
       "  </thead>\n",
       "  <tbody>\n",
       "    <tr>\n",
       "      <th id=\"T_58f2b_level0_row0\" class=\"row_heading level0 row0\" >5</th>\n",
       "      <td id=\"T_58f2b_row0_col0\" class=\"data row0 col0\" >bottle</td>\n",
       "      <td id=\"T_58f2b_row0_col1\" class=\"data row0 col1\" >0.730000</td>\n",
       "      <td id=\"T_58f2b_row0_col2\" class=\"data row0 col2\" >bottle of wine.</td>\n",
       "      <td id=\"T_58f2b_row0_col3\" class=\"data row0 col3\" >False</td>\n",
       "    </tr>\n",
       "    <tr>\n",
       "      <th id=\"T_58f2b_level0_row1\" class=\"row_heading level0 row1\" >11</th>\n",
       "      <td id=\"T_58f2b_row1_col0\" class=\"data row1 col0\" >fish</td>\n",
       "      <td id=\"T_58f2b_row1_col1\" class=\"data row1 col1\" >0.470000</td>\n",
       "      <td id=\"T_58f2b_row1_col2\" class=\"data row1 col2\" >type of fish.</td>\n",
       "      <td id=\"T_58f2b_row1_col3\" class=\"data row1 col3\" >False</td>\n",
       "    </tr>\n",
       "  </tbody>\n",
       "</table>\n"
      ],
      "text/plain": [
       "<pandas.io.formats.style.Styler at 0x1d619d882b0>"
      ]
     },
     "execution_count": 182,
     "metadata": {},
     "output_type": "execute_result"
    }
   ],
   "source": [
    "left_align(toma_preturb.query('not Exact_Match')[['Non-Toma Item','Probability','Completion','Exact Match']])"
   ]
  },
  {
   "cell_type": "markdown",
   "metadata": {},
   "source": [
    "In the case of the bottle, GPT-3's \"bottle of wine\" answer is more precise than the item Ally finds, which is even less likely to be the \"toma\" than a generic \"bottle\". In the case of the fish, GPT-3's answer is less precise than the item Ally finds, which is even more likely to be the \"toma\" than a generic \"bottle\"."
   ]
  },
  {
   "cell_type": "markdown",
   "metadata": {},
   "source": [
    "# Discussion"
   ]
  },
  {
   "attachments": {},
   "cell_type": "markdown",
   "metadata": {},
   "source": [
    "Through this analysis, we see that GPT-3 does not hold true social cognition. Although it is able to regurgitate reasonable responses to basic theory of mind and imitative learning tasks, small variations in the scenario completely flip the results. These variations are such that a human with true theory of mind and imitative learning abilities would be able to handle easily, and demonstrate the absence of these abilities in GPT-3. <br>"
   ]
  },
  {
   "attachments": {},
   "cell_type": "markdown",
   "metadata": {},
   "source": [
    "Future analysis might consider a more sophisticated way of checking whether GPT-3's completion of the toma finding game gave a correct answer or not. Fuzzy matching would work to an extent (carrot/carrots), but would also fail at more complex matches (squirrel/type of animal). Additionally, this study uses temperature = 0, such that GPT-3's completions are deterministic. Introducing randomness may allow for different results. Varying the number of tokens allowed for GPT-3's completion may also yield differing results. This study also does not consider the probability that GPT-3 provides with its completions, although a quick analysis shows that these numbers do not contain much of a pattern (Appendix B)."
   ]
  },
  {
   "cell_type": "markdown",
   "metadata": {},
   "source": [
    "# Appendix"
   ]
  },
  {
   "cell_type": "markdown",
   "metadata": {},
   "source": [
    "## A. Items used for 'finding the toma'"
   ]
  },
  {
   "cell_type": "markdown",
   "metadata": {},
   "source": [
    "hand mirror, candy bar, dolphin, pair of spectacles, paperclip, food, tube of lipstick, box of crayons, magnet, hair tie, car, pop can, empty tin can, cork, roll of toilet paper, cellphone, credit card, pasta strainer, blowdryer, wireless control, hand fan, can of beans, pillow, piece of sand paper, shampoo, word search, card, pinecone, cement stone, flower, twister, rabbit, canvas, football, game CD, bag of popcorn, basketball, egg, mp3 player, panda, bottle of ink, mobile phone, chenille stick, chocolate, craft book, flashlight, soccer ball, plush cat, apple, ice cream stick, bananas, eye liner, pair of earrings, handbasket, bowl, purse, keychain, roll of gauze, fork, Christmas ornament, hand bag, toilet, balloon, chapter book, cucumber, crowbar, squirrel, wine glass, pair of rubber gloves, cat, cow, video games, CD, pocketknife, window, needle, pencil holder, hair pin, empty jar, pepper shaker, pair of sunglasses, catalogue, stick of incense, pail, plastic fork, bottle cap, carrots, can of peas, tea cup, ice cube, rug, couch, candlestick, lotion, stick, bookmark, ice pick, wristwatch, baseball hat, carton of ice cream, glasses, thermometer, thread, paint brush, eraser, zipper, roll of masking tape, outlet, speakers, hanger, cup, bottle of nail polish, safety pin, wallet, picture frame, bandana, beaded necklace, bag of rubber bands, pair of handcuffs, snowglobe, grocery list, box of Q-tips, spice bottle, book, ring, extension cord, butter knife, helmet, baseball bat, check book, watch, bottle of lotion, trash bag, whale, bed, glass, pearl necklace, pair of water goggles, face wash, towel, pair of knitting needles, lighter, sharpie, sticky note, pants, hair clip, umbrella, piece of gum, glow stick, tennis racket, ipod charger, street lights, toilet paper tube, rolling pin, laser pointer, cookie tin, tweezers, shirt, turtle, carrot, pair of tongs, harmonica, can of chili, whistle, candy cane, sofa, pair of dice, beef, ipod, package of crisp and crunchy edibles, screw, remote, light, trucks, pair of safety goggles, package of glitter, shirt button, pack of cards, grid paper, clay pot, plush rabbit, bell, packet of seeds, plate, fishing hook, frying pan, music CD, tv, hair brush, quilt, box of tissues, lime, chair, lemon, clothes pin, garden spade, jar of pickles, sidewalk, perfume, bangle bracelet, rusty nail, leg warmers, bottle of paint, plush unicorn, container of pudding, matchbook, bag, shoes, acorn, sword, plush dinosaur, bouquet of flowers, sheet of paper, bottle of perfume, banana, feather duster, zebra, plush frog, kitchen knife, keys, egg timer, book of matches, beaded bracelet, stockings, camera, bottle, locket, rubber stamp, cell phone, scarf, nail clippers, microphone, bar of soap, comb, quartz crystal, toothpick, toothpaste, blouse, necktie, slipper, model car, sailboat, egg beater, letter opener, game cartridge, tea pot, feather, straw, keyboard, statuette, light bulb, shoe lace, white out, baseball, shark, chain, steak knife, lamp, tube of lip balm, photo album, pair of binoculars, toy robot, rubber duck, wrench, belt, radio, flyswatter, chicken, pen, bread, boom box, notebook, bottle of syrup, flag, class ring, orange, box of markers, chalk, plush octopus, bow, bonesaw, dagger, bottle of pills, candle, vase, washing machine, tomato, children's book, thimble, teddies, ball of yarn, handheld game system, bottle of soda, bottle of glue, fridge, wishbone, drill press, box of chocolates, magnifying glass, sandglass, roll of stickers, spatula, cars, hammer, bottle of water, drawer, spool of string, box of baking soda, cookie jar, shawl, marble, comic book, empty bottle, canteen, rhino, plush pony, martini glass, wedding ring, shopping bag, map, bottle of honey, tiger, bottle of sunscreen, multitool, table, soap, tree, key chain, mirror, snail shell, sun glasses, door, incense holder, book of jokes, phone, novel, nail filer, buckle, mop, box of chalk, bag of cotton balls, crow, paintbrush, pair of glasses, rope, sketch pad, jigsaw puzzle, hair ribbon, tissue box, button, money, purse/bag, tooth pick, box, coffee mug, scallop shell, computer, toy plane, few batteries, television, ocarina, spool of thread, monitor, spoon, water, pool stick, toy top, house, paper, scotch tape, lace, pair of scissors, rock, hamster, rat, pocketwatch, bottle of oil, notepad, bracelet, clothes, spring, postage stamp, coffee pot, clock, lamp shade, pencil, knife, miniature portrait, bow tie, cowboy hat, plush bear, dictionary, sandal, jar of jam, fish, deodorant, water bottle, toe ring, roll of duct tape, stop sign, mouse pad, toy car, giraffe, ladle, seat belt, toy soldier, nail, lion, desk, tennis ball, fake flowers, dove, shovel, candy wrapper, socks, rubber band, spool of ribbon, sticker book, sheep, salt shaker, magazine, domino set, toothbrush, lip gloss, whip, spool of wire, squirt gun, plush dog, tire swing, can of whipped cream, jar of peanut butter, conditioner, screwdriver, brush, toy boat, handful of change, pair of socks, broccoli, puddle, small pouch, dog, sponge, milk, wooden spoon, washcloth, key"
   ]
  },
  {
   "cell_type": "markdown",
   "metadata": {},
   "source": [
    "# B. Completion Probabilites"
   ]
  },
  {
   "cell_type": "code",
   "execution_count": 244,
   "metadata": {},
   "outputs": [],
   "source": [
    "probs = []\n",
    "for i in range(10):\n",
    "    toma_n_df = pd.read_csv(f'tom_data/toma_i{i}.csv',index_col=0)\n",
    "    p = []\n",
    "    for n in np.arange(1,11,1):\n",
    "        p.extend(toma_n_df[toma_n_df['Tries']==n]['Probability'])\n",
    "    probs.append(p)"
   ]
  },
  {
   "cell_type": "code",
   "execution_count": 245,
   "metadata": {},
   "outputs": [
    {
     "data": {
      "image/png": "[encoded data removed]",
      "text/plain": [
       "<Figure size 500x300 with 1 Axes>"
      ]
     },
     "metadata": {},
     "output_type": "display_data"
    }
   ],
   "source": [
    "probs = np.array(probs).T\n",
    "mean = np.mean(probs,axis=0)\n",
    "plt.figure(figsize=(5,3))\n",
    "for i in range(10):\n",
    "    plt.scatter(np.arange(1,11,1),probs[i],alpha=0.5,color='pink',s=10,marker='x')\n",
    "plt.plot(np.arange(1,11,1),mean,label='Mean',color='maroon',linewidth=2)\n",
    "plt.xlabel('Number of Searches to Find Toma')\n",
    "plt.ylabel('GPT Accuracy')\n",
    "plt.xticks(np.arange(1,11,1))\n",
    "# make a legend for the mean line and the scatter points\n",
    "mean_line = plt.Line2D((0,1),(0,0), color='maroon', linestyle='-')\n",
    "scatter = plt.Line2D((0,1),(0,0), color='pink', marker='x', linestyle='',alpha=1)\n",
    "plt.legend([mean_line,scatter],['Mean','Individual'],loc='lower right')\n",
    "# caption\n",
    "\n",
    "plt.tight_layout()\n",
    "plt.savefig('tom_data/toma_accuracy.png',dpi=600)\n",
    "plt.show()"
   ]
  },
  {
   "cell_type": "markdown",
   "metadata": {},
   "source": [
    "# Citations"
   ]
  },
  {
   "attachments": {},
   "cell_type": "markdown",
   "metadata": {},
   "source": [
    "\\noindent  \n",
    "\n",
    "\\vspace{-1em}  \n",
    "\\setlength{\\parindent}{-0.2in}  \n",
    "\\setlength{\\leftskip}{0.2in}  \n",
    "\\setlength{\\parskip}{8pt}\n",
    "\n",
    "<p style=\"padding-left: 2em; text-indent: -2em;\">[1] Tomasello, Michael. \"The human adaptation for culture.\" Annual review of anthropology 28, no. 1 (1999): 509-529.<br>\n",
    "<p style=\"padding-left: 2em; text-indent: -2em;\">[2]  Kosinski, Michal. \"Theory of mind may have spontaneously emerged in large language models.\" arXiv preprint arXiv:2302.02083 (2023).<br>\n",
    "<p style=\"padding-left: 2em; text-indent: -2em;\">[3] Ullman, Tomer. \"Large Language Models Fail on Trivial Alterations to Theory-of-Mind Tasks.\" arXiv preprint arXiv:2302.08399 (2023).<br>\n",
    "<p style=\"padding-left: 2em; text-indent: -2em;\">[4] Brown, Tom, Benjamin Mann, Nick Ryder, Melanie Subbiah, Jared D. Kaplan, Prafulla Dhariwal, Arvind Neelakantan et al. \"Language models are few-shot learners.\" Advances in neural information processing systems 33 (2020): 1877-1901.\n",
    "<p style=\"padding-left: 2em; text-indent: -2em;\">[5] Qian, Jing, Hong Wang, Zekun Li, Shiyang Li, and Xifeng Yan. \"Limitations of language models in arithmetic and symbolic induction.\" arXiv preprint arXiv:2208.05051 (2022).\n"
   ]
  }
 ],
 "metadata": {
  "kernelspec": {
   "display_name": "Python 3 (ipykernel)",
   "language": "python",
   "name": "python3"
  },
  "language_info": {
   "codemirror_mode": {
    "name": "ipython",
    "version": 3
   },
   "file_extension": ".py",
   "mimetype": "text/x-python",
   "name": "python",
   "nbconvert_exporter": "python",
   "pygments_lexer": "ipython3",
   "version": "3.9.13"
  }
 },
 "nbformat": 4,
 "nbformat_minor": 2
}
