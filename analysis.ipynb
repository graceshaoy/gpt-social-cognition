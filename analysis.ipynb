{
 "cells": [
  {
   "cell_type": "code",
   "execution_count": 2,
   "metadata": {},
   "outputs": [],
   "source": [
    "import os\n",
    "import numpy as np\n",
    "from random import shuffle\n",
    "import pandas as pd\n",
    "import matplotlib.pyplot as plt\n",
    "import requests\n",
    "\n",
    "import openai\n",
    "\n",
    "from importlib import reload\n",
    "import llm\n",
    "reload(llm)\n",
    "\n",
    "from config import openai_key\n",
    "openai.api_key = openai_key"
   ]
  },
  {
   "cell_type": "code",
   "execution_count": 3,
   "metadata": {},
   "outputs": [],
   "source": [
    "def ask_gpt(prompts):\n",
    "    toma_outs, probs = [], []\n",
    "    for i in range(len(prompts)):\n",
    "        out = llm.gpt3(prompts[i],logprobs=10)\n",
    "        toma_outs.append(out)\n",
    "        probs.append(llm.gpt3_probs(out))\n",
    "    return np.array(probs)\n",
    "\n",
    "def probs_to_df(prompts,probs):\n",
    "    df = pd.DataFrame({'Prompt':prompts,'Completion':probs[:,0],'Probability':probs[:,1]})\n",
    "    return df"
   ]
  },
  {
   "attachments": {},
   "cell_type": "markdown",
   "metadata": {},
   "source": [
    "# Theory of Mind"
   ]
  },
  {
   "attachments": {},
   "cell_type": "markdown",
   "metadata": {},
   "source": [
    "## Unexpected Contents (Bag of Popcorn)"
   ]
  },
  {
   "cell_type": "code",
   "execution_count": 4,
   "metadata": {},
   "outputs": [],
   "source": [
    "popcorn_context = r\"\"\"Here is a bag filled with popcorn. There is no chocolate in the bag. Yet, the label on the bag says 'chocolate' and not 'popcorn.' Sam finds the bag. She had never seen the bag before. She cannot see what is inside the bag. She reads the label. \"\"\""
   ]
  },
  {
   "cell_type": "code",
   "execution_count": 5,
   "metadata": {},
   "outputs": [],
   "source": [
    "popcorn_controls = [\"She is delighted that she has found this bag. She loves eating \",\"She opens the bag and inspects its contents. She can clearly see that it is full of \"]\n",
    "popcorn_controls = [popcorn_context+x for x in popcorn_controls]"
   ]
  },
  {
   "cell_type": "code",
   "execution_count": 6,
   "metadata": {},
   "outputs": [],
   "source": [
    "popcorn_control_probs = ask_gpt(popcorn_controls)"
   ]
  },
  {
   "cell_type": "code",
   "execution_count": 7,
   "metadata": {},
   "outputs": [],
   "source": [
    "popcorn_control_df = probs_to_df(popcorn_controls,popcorn_control_probs)\n",
    "popcorn_control_df.to_csv('tom_data/popcorn_control.csv')"
   ]
  },
  {
   "cell_type": "code",
   "execution_count": 14,
   "metadata": {},
   "outputs": [],
   "source": [
    "transparent = \"Here is a bag filled with popcorn. There is no chocolate in the bag. The bag is made of transparent plastic, so you can see what is inside. Yet, the label on the bag says ’chocolate’ and not ’popcorn.’ Sam finds the bag. She had never seen the bag before. Sam reads the label. \"\n",
    "cantread = \"Here is a bag filled with popcorn. There is no chocolate in the bag. Yet, the label on the bag says “chocolate” and not “popcorn.” Sam finds the bag. She had never seen the bag before. She cannot see what is inside the bag. Sam cannot read. Sam looks at the label. \"\n",
    "testimony = \"Here is a bag filled with popcorn. There is no chocolate in the bag. The label on the bag says “chocolate”, rather than “popcorn.” Before coming into the room, Sam’s friend told her ‘the bag in the room has popcorn in it, ignore the label’. Sam believes her friend. Sam finds the bag. She had never seen the bag before. She cannot see what is inside the bag. Sam reads the label, which says the bag has chocolate in it. \"\n",
    "samwrote = \"Sam fills a bag with popcorn and closes it. There is no chocolate in the bag. Sam writes a label and puts it on the bag. Sam looks at the bag. She cannot see what is inside the bag. Sam reads the label. The label says the bag has chocolate in it. \"\n",
    "popcorn_belief = \"She believes that the bag is full of \"\n",
    "\n",
    "popcorn_prompts = [popcorn_context,transparent,cantread,testimony,samwrote]\n",
    "popcorn_prompts = [x+popcorn_belief for x in popcorn_prompts]\n",
    "prompts_title = ['Original','Transparent bag',\"Sam can't read\",\"Friend testimony\",'Sam wrote the label']"
   ]
  },
  {
   "cell_type": "code",
   "execution_count": 15,
   "metadata": {},
   "outputs": [
    {
     "data": {
      "text/plain": [
       "[\"Here is a bag filled with popcorn. There is no chocolate in the bag. Yet, the label on the bag says 'chocolate' and not 'popcorn.' Sam finds the bag. She had never seen the bag before. She cannot see what is inside the bag. She reads the label. She believes that the bag is full of \",\n",
       " 'Here is a bag filled with popcorn. There is no chocolate in the bag. The bag is made of transparent plastic, so you can see what is inside. Yet, the label on the bag says ’chocolate’ and not ’popcorn.’ Sam finds the bag. She had never seen the bag before. Sam reads the label. She believes that the bag is full of ',\n",
       " 'Here is a bag filled with popcorn. There is no chocolate in the bag. Yet, the label on the bag says “chocolate” and not “popcorn.” Sam finds the bag. She had never seen the bag before. She cannot see what is inside the bag. Sam cannot read. Sam looks at the label. She believes that the bag is full of ',\n",
       " 'Here is a bag filled with popcorn. There is no chocolate in the bag. The label on the bag says “chocolate”, rather than “popcorn.” Before coming into the room, Sam’s friend told her ‘the bag in the room has popcorn in it, ignore the label’. Sam believes her friend. Sam finds the bag. She had never seen the bag before. She cannot see what is inside the bag. Sam reads the label, which says the bag has chocolate in it. She believes that the bag is full of ',\n",
       " 'Sam fills a bag with popcorn and closes it. There is no chocolate in the bag. Sam writes a label and puts it on the bag. Sam looks at the bag. She cannot see what is inside the bag. Sam reads the label. The label says the bag has chocolate in it. She believes that the bag is full of ']"
      ]
     },
     "execution_count": 15,
     "metadata": {},
     "output_type": "execute_result"
    }
   ],
   "source": [
    "popcorn_prompts"
   ]
  },
  {
   "cell_type": "code",
   "execution_count": 10,
   "metadata": {},
   "outputs": [],
   "source": [
    "popcorn_probs = ask_gpt(popcorn_prompts)"
   ]
  },
  {
   "cell_type": "code",
   "execution_count": 16,
   "metadata": {},
   "outputs": [
    {
     "data": {
      "text/html": [
       "<div>\n",
       "<style scoped>\n",
       "    .dataframe tbody tr th:only-of-type {\n",
       "        vertical-align: middle;\n",
       "    }\n",
       "\n",
       "    .dataframe tbody tr th {\n",
       "        vertical-align: top;\n",
       "    }\n",
       "\n",
       "    .dataframe thead th {\n",
       "        text-align: right;\n",
       "    }\n",
       "</style>\n",
       "<table border=\"1\" class=\"dataframe\">\n",
       "  <thead>\n",
       "    <tr style=\"text-align: right;\">\n",
       "      <th></th>\n",
       "      <th>Prompt Title</th>\n",
       "      <th>Prompt</th>\n",
       "      <th>Completion</th>\n",
       "      <th>Probability</th>\n",
       "    </tr>\n",
       "  </thead>\n",
       "  <tbody>\n",
       "    <tr>\n",
       "      <th>0</th>\n",
       "      <td>Original</td>\n",
       "      <td>Here is a bag filled with popcorn. There is no...</td>\n",
       "      <td>chocolate.\\n\\nSam is in for a surprise when sh...</td>\n",
       "      <td>0.99</td>\n",
       "    </tr>\n",
       "    <tr>\n",
       "      <th>1</th>\n",
       "      <td>Transparent bag</td>\n",
       "      <td>Here is a bag filled with popcorn. There is no...</td>\n",
       "      <td>chocolate. She is disappointed when she opens ...</td>\n",
       "      <td>0.97</td>\n",
       "    </tr>\n",
       "    <tr>\n",
       "      <th>2</th>\n",
       "      <td>Sam can't read</td>\n",
       "      <td>Here is a bag filled with popcorn. There is no...</td>\n",
       "      <td>chocolate.\\n\\nSam is likely to be disappointed...</td>\n",
       "      <td>0.98</td>\n",
       "    </tr>\n",
       "    <tr>\n",
       "      <th>3</th>\n",
       "      <td>Friend testimony</td>\n",
       "      <td>Here is a bag filled with popcorn. There is no...</td>\n",
       "      <td>chocolate.\\n\\nSam is likely to be disappointed...</td>\n",
       "      <td>0.82</td>\n",
       "    </tr>\n",
       "    <tr>\n",
       "      <th>4</th>\n",
       "      <td>Sam wrote the label</td>\n",
       "      <td>Sam fills a bag with popcorn and closes it. Th...</td>\n",
       "      <td>chocolate.\\n\\nThis is an example of false beli...</td>\n",
       "      <td>0.9</td>\n",
       "    </tr>\n",
       "  </tbody>\n",
       "</table>\n",
       "</div>"
      ],
      "text/plain": [
       "          Prompt Title                                             Prompt  \\\n",
       "0             Original  Here is a bag filled with popcorn. There is no...   \n",
       "1      Transparent bag  Here is a bag filled with popcorn. There is no...   \n",
       "2       Sam can't read  Here is a bag filled with popcorn. There is no...   \n",
       "3     Friend testimony  Here is a bag filled with popcorn. There is no...   \n",
       "4  Sam wrote the label  Sam fills a bag with popcorn and closes it. Th...   \n",
       "\n",
       "                                          Completion Probability  \n",
       "0  chocolate.\\n\\nSam is in for a surprise when sh...        0.99  \n",
       "1  chocolate. She is disappointed when she opens ...        0.97  \n",
       "2  chocolate.\\n\\nSam is likely to be disappointed...        0.98  \n",
       "3  chocolate.\\n\\nSam is likely to be disappointed...        0.82  \n",
       "4  chocolate.\\n\\nThis is an example of false beli...         0.9  "
      ]
     },
     "execution_count": 16,
     "metadata": {},
     "output_type": "execute_result"
    }
   ],
   "source": [
    "popcorn_df = probs_to_df(popcorn_prompts,popcorn_probs)\n",
    "popcorn_df['Prompt Title'] = prompts_title\n",
    "popcorn_df = popcorn_df[['Prompt Title','Prompt','Completion','Probability']]\n",
    "popcorn_df.to_csv('tom_data/popcorn.csv')\n",
    "popcorn_df"
   ]
  },
  {
   "cell_type": "code",
   "execution_count": 17,
   "metadata": {},
   "outputs": [],
   "source": [
    "popcorn_df.to_csv('tom_data/popcorn.csv')"
   ]
  },
  {
   "attachments": {},
   "cell_type": "markdown",
   "metadata": {},
   "source": [
    "## Unexpected Transfer (cat in basket/box)"
   ]
  },
  {
   "cell_type": "code",
   "execution_count": 23,
   "metadata": {},
   "outputs": [],
   "source": [
    "cat_org = \"In the room there are John, Mark, a cat, a box, and a basket. John takes the cat and puts it in the basket. He leaves the room and goes to school. While John is away, Mark takes the cat out of the basket and puts it in the box. Mark leaves the room and goes to work. John comes back from school and enters the room. He doesn’t know what happened in the room when he was away. When John comes back home, he will look for the cat in the \"\n",
    "cat_transparent = \"In the room there are John, Mark, a cat, a transparent plastic box, and a glass chest. John takes the cat and puts it in the chest. He leaves the room and goes to school. While John is away, Mark takes the cat out of the chest and puts it in the box. Mark leaves the room and goes to work. John comes back from school and enters the room. He doesn’t know what happened in the room when he was away. John will look for the cat in the \"\n",
    "cat_relationship = \"In the room there are John, Mark, a cat, a box, and a basket. John takes the cat and puts it on the basket. He leaves the room and goes to school. While John is away, Mark takes the cat off the basket and puts it on the box. Mark leaves the room and goes to work. John comes back from school and enters the room. John looks around the room. He doesn’t know what happened in the room when he was away. John will look for the cat on the \"\n",
    "cat_testimony = \"In the room there are John, Mark, a cat, a box, and a basket. John takes the cat and puts it in the basket. He leaves the room and goes to school. Mark calls John to tell him he is going to move the cat to the box. John believes him. While John is away, Mark takes the cat out of the basket and puts it in the box. Mark leaves the room and goes to work. John comes back from school and enters the room. He doesn’t know what happened in the room when he was away. John will look for the cat in the \"\n",
    "cat_mark = \"In the room there are John, Mark, a cat, a box, and a basket. John takes the cat and puts it in the basket. He leaves the room and goes to school. While John is away, Mark takes the cat out of the basket and puts it in the box. Mark leaves the room and goes to work. John and Mark come back and enter the room. They don’t know what happened in the room when they were away. Mark will look for the cat in the \"\n",
    "cat_prompts = [cat_org,cat_transparent,cat_relationship,cat_testimony,cat_mark]\n",
    "cat_prompts_title = ['Original','Transparent box','Cat on the box','Friend testimony',\"Mark's POV\"]"
   ]
  },
  {
   "cell_type": "code",
   "execution_count": 19,
   "metadata": {},
   "outputs": [
    {
     "name": "stdout",
     "output_type": "stream",
     "text": [
      "In the room there are John, Mark, a cat, a box, and a basket. John takes the cat and puts it in the basket. He leaves the room and goes to school. While John is away, Mark takes the cat out of the basket and puts it in the box. Mark leaves the room and goes to work. John comes back from school and enters the room. He doesn’t know what happened in the room when he was away. When John comes back home, he will look for the cat in the \n",
      "In the room there are John, Mark, a cat, a transparent plastic box, and a glass chest. John takes the cat and puts it in the chest. He leaves the room and goes to school. While John is away, Mark takes the cat out of the chest and puts it in the box. Mark leaves the room and goes to work. John comes back from school and enters the room. He doesn’t know what happened in the room when he was away. John will look for the cat in the \n",
      "In the room there are John, Mark, a cat, a box, and a basket. John takes the cat and puts it on the basket. He leaves the room and goes to school. While John is away, Mark takes the cat off the basket and puts it on the box. Mark leaves the room and goes to work. John comes back from school and enters the room. John looks around the room. He doesn’t know what happened in the room when he was away. John will look for the cat on the \n",
      "In the room there are John, Mark, a cat, a box, and a basket. John takes the cat and puts it in the basket. He leaves the room and goes to school. Mark calls John to tell him he is going to move the cat to the box. John believes him. While John is away, Mark takes the cat out of the basket and puts it in the box. Mark leaves the room and goes to work. John comes back from school and enters the room. He doesn’t know what happened in the room when he was away. John will look for the cat in the \n",
      "In the room there are John, Mark, a cat, a box, and a basket. John takes the cat and puts it in the basket. He leaves the room and goes to school. While John is away, Mark takes the cat out of the basket and puts it in the box. Mark leaves the room and goes to work. John and Mark come back and enter the room. They don’t know what happened in the room when they were away. Mark will look for the cat in the \n"
     ]
    },
    {
     "data": {
      "text/plain": [
       "[None, None, None, None, None]"
      ]
     },
     "execution_count": 19,
     "metadata": {},
     "output_type": "execute_result"
    }
   ],
   "source": [
    "[print(x) for x in cat_prompts]"
   ]
  },
  {
   "cell_type": "code",
   "execution_count": 21,
   "metadata": {},
   "outputs": [],
   "source": [
    "cat_probs = ask_gpt(cat_prompts)"
   ]
  },
  {
   "cell_type": "code",
   "execution_count": 30,
   "metadata": {},
   "outputs": [
    {
     "data": {
      "text/html": [
       "<div>\n",
       "<style scoped>\n",
       "    .dataframe tbody tr th:only-of-type {\n",
       "        vertical-align: middle;\n",
       "    }\n",
       "\n",
       "    .dataframe tbody tr th {\n",
       "        vertical-align: top;\n",
       "    }\n",
       "\n",
       "    .dataframe thead th {\n",
       "        text-align: right;\n",
       "    }\n",
       "</style>\n",
       "<table border=\"1\" class=\"dataframe\">\n",
       "  <thead>\n",
       "    <tr style=\"text-align: right;\">\n",
       "      <th></th>\n",
       "      <th>Prompt Title</th>\n",
       "      <th>Prompt</th>\n",
       "      <th>Completion</th>\n",
       "      <th>Probability</th>\n",
       "    </tr>\n",
       "  </thead>\n",
       "  <tbody>\n",
       "    <tr>\n",
       "      <th>0</th>\n",
       "      <td>Original</td>\n",
       "      <td>In the room there are John, Mark, a cat, a box...</td>\n",
       "      <td>basket, but he will find it in the box.</td>\n",
       "      <td>1.0</td>\n",
       "    </tr>\n",
       "    <tr>\n",
       "      <th>1</th>\n",
       "      <td>Transparent box</td>\n",
       "      <td>In the room there are John, Mark, a cat, a tra...</td>\n",
       "      <td>chest, but he won’t find it. He will then look in</td>\n",
       "      <td>0.95</td>\n",
       "    </tr>\n",
       "    <tr>\n",
       "      <th>2</th>\n",
       "      <td>Cat on the box</td>\n",
       "      <td>In the room there are John, Mark, a cat, a box...</td>\n",
       "      <td>basket, but he won’t find it. He will then loo...</td>\n",
       "      <td>0.95</td>\n",
       "    </tr>\n",
       "    <tr>\n",
       "      <th>3</th>\n",
       "      <td>Friend testimony</td>\n",
       "      <td>In the room there are John, Mark, a cat, a box...</td>\n",
       "      <td>basket, but he won’t find it. He will then loo...</td>\n",
       "      <td>1.0</td>\n",
       "    </tr>\n",
       "    <tr>\n",
       "      <th>4</th>\n",
       "      <td>Mark's POV</td>\n",
       "      <td>In the room there are John, Mark, a cat, a box...</td>\n",
       "      <td>basket, while John will look for the cat in th...</td>\n",
       "      <td>0.56</td>\n",
       "    </tr>\n",
       "  </tbody>\n",
       "</table>\n",
       "</div>"
      ],
      "text/plain": [
       "       Prompt Title                                             Prompt  \\\n",
       "0          Original  In the room there are John, Mark, a cat, a box...   \n",
       "1   Transparent box  In the room there are John, Mark, a cat, a tra...   \n",
       "2    Cat on the box  In the room there are John, Mark, a cat, a box...   \n",
       "3  Friend testimony  In the room there are John, Mark, a cat, a box...   \n",
       "4        Mark's POV  In the room there are John, Mark, a cat, a box...   \n",
       "\n",
       "                                          Completion Probability  \n",
       "0            basket, but he will find it in the box.         1.0  \n",
       "1  chest, but he won’t find it. He will then look in        0.95  \n",
       "2  basket, but he won’t find it. He will then loo...        0.95  \n",
       "3  basket, but he won’t find it. He will then loo...         1.0  \n",
       "4  basket, while John will look for the cat in th...        0.56  "
      ]
     },
     "execution_count": 30,
     "metadata": {},
     "output_type": "execute_result"
    }
   ],
   "source": [
    "cat = probs_to_df(cat_prompts,cat_probs)\n",
    "cat['Prompt Title'] = cat_prompts_title\n",
    "cat = cat[['Prompt Title','Prompt','Completion','Probability']]\n",
    "cat.to_csv('tom_data/cat.csv')\n",
    "cat"
   ]
  },
  {
   "attachments": {},
   "cell_type": "markdown",
   "metadata": {},
   "source": [
    "# Imitative Learning"
   ]
  },
  {
   "attachments": {},
   "cell_type": "markdown",
   "metadata": {},
   "source": [
    "## Find the toma\n",
    "In the context of a finding game, an adult announced her intentions to “find\n",
    "the toma” and then searched in a row of buckets all containing novel objects.\n",
    "Sometimes she found it in the first bucket searched, smiling and handing the\n",
    "child the object. Sometimes, however, she had to search longer, rejecting unwanted\n",
    "objects by scowling at them and replacing them in their buckets until\n",
    "she found the one she wanted (again indicated by a smile and the termination\n",
    "of search). Children learned the new word for the object the adult intended\n",
    "to find regardless of whether or how many objects were rejected\n",
    "during the search process (Tomasello & Barton 1994)."
   ]
  },
  {
   "cell_type": "code",
   "execution_count": 338,
   "metadata": {},
   "outputs": [],
   "source": [
    "bucket = \"hand mirror,candy bar,dolphin,pair of spectacles,paperclip,food,tube of lipstick,box of crayons,magnet,hair tie,car,pop can,empty tin can,cork,roll of toilet paper,cellphone,credit card,pasta strainer,blowdryer,wireless control,hand fan,can of beans,pillow,piece of sand paper,shampoo,word search,card,pinecone,cement stone,flower,twister,rabbit,canvas,football,game CD,bag of popcorn,basketball,egg,mp3 player,panda,bottle of ink,mobile phone,chenille stick,chocolate,craft book,flashlight,soccer ball,plush cat,apple,ice cream stick,bananas,eye liner,pair of earrings,handbasket,bowl,purse,keychain,roll of gauze,fork,Christmas ornament,hand bag,toilet,balloon,chapter book,cucumber,crowbar,squirrel,wine glass,pair of rubber gloves,cat,cow,video games,CD,pocketknife,window,needle,pencil holder,hair pin,empty jar,pepper shaker,pair of sunglasses,catalogue,stick of incense,pail,plastic fork,bottle cap,carrots,can of peas,tea cup,ice cube,rug,couch,candlestick,lotion,stick,bookmark,ice pick,wristwatch,baseball hat,carton of ice cream,glasses,thermometer,thread,paint brush,eraser,zipper,roll of masking tape,outlet,speakers,hanger,cup,bottle of nail polish,safety pin,wallet,picture frame,bandana,beaded necklace,bag of rubber bands,pair of handcuffs,snowglobe,grocery list,box of Q-tips,spice bottle,book,ring,extension cord,butter knife,helmet,baseball bat,check book,watch,bottle of lotion,trash bag,whale,bed,glass,pearl necklace,pair of water goggles,face wash,towel,pair of knitting needles,lighter,sharpie,sticky note,pants,hair clip,umbrella,piece of gum,glow stick,tennis racket,ipod charger,street lights,toilet paper tube,rolling pin,laser pointer,cookie tin,tweezers,shirt,turtle,carrot,pair of tongs,harmonica,can of chili,whistle,candy cane,sofa,pair of dice,beef,ipod,package of crisp and crunchy edibles,screw,remote,light,trucks,pair of safety goggles,package of glitter,shirt button,pack of cards,grid paper,clay pot,plush rabbit,bell,packet of seeds,plate,fishing hook,frying pan,music CD,tv,hair brush,quilt,box of tissues,lime,chair,lemon,clothes pin,garden spade,jar of pickles,sidewalk,perfume,bangle bracelet,rusty nail,leg warmers,bottle of paint,plush unicorn,container of pudding,matchbook,bag,shoes,acorn,sword,plush dinosaur,bouquet of flowers,sheet of paper,bottle of perfume,banana,feather duster,zebra,plush frog,kitchen knife,keys,egg timer,book of matches,beaded bracelet,stockings,camera,bottle,locket,rubber stamp,cell phone,scarf,nail clippers,microphone,bar of soap,comb,quartz crystal,toothpick,toothpaste,blouse,necktie,slipper,model car,sailboat,egg beater,letter opener,game cartridge,tea pot,feather,straw,keyboard,statuette,light bulb,shoe lace,white out,baseball,shark,chain,steak knife,lamp,tube of lip balm,photo album,pair of binoculars,toy robot,rubber duck,wrench,belt,radio,flyswatter,chicken,pen,bread,boom box,notebook,bottle of syrup,flag,class ring,orange,box of markers,chalk,plush octopus,bow,bonesaw,dagger,bottle of pills,candle,vase,washing machine,tomato,children's book,thimble,teddies,ball of yarn,handheld game system,bottle of soda,bottle of glue,fridge,wishbone,drill press,box of chocolates,magnifying glass,sandglass,roll of stickers,spatula,cars,hammer,bottle of water,drawer,spool of string,box of baking soda,cookie jar,shawl,marble,comic book,empty bottle,canteen,rhino,plush pony,martini glass,wedding ring,shopping bag,map,bottle of honey,tiger,bottle of sunscreen,multitool,table,soap,tree,key chain,mirror,snail shell,sun glasses,door,incense holder,book of jokes,phone,novel,nail filer,buckle,mop,box of chalk,bag of cotton balls,crow,paintbrush,pair of glasses,rope,sketch pad,jigsaw puzzle,hair ribbon,tissue box,button,money,purse/bag,tooth pick,box,coffee mug,scallop shell,computer,toy plane,few batteries,television,ocarina,spool of thread,monitor,spoon,water,pool stick,toy top,house,paper,scotch tape,lace,pair of scissors,rock,hamster,rat,pocketwatch,bottle of oil,notepad,bracelet,clothes,spring,postage stamp,coffee pot,clock,lamp shade,pencil,knife,miniature portrait,bow tie,cowboy hat,plush bear,dictionary,sandal,jar of jam,fish,deodorant,water bottle,toe ring,roll of duct tape,stop sign,mouse pad,toy car,giraffe,ladle,seat belt,toy soldier,nail,lion,desk,tennis ball,fake flowers,dove,shovel,candy wrapper,socks,rubber band,spool of ribbon,sticker book,sheep,salt shaker,magazine,domino set,toothbrush,lip gloss,whip,spool of wire,squirt gun,plush dog,tire swing,can of whipped cream,jar of peanut butter,conditioner,screwdriver,brush,toy boat,handful of change,pair of socks,broccoli,puddle,small pouch,dog,sponge,milk,wooden spoon,washcloth,key\"\n",
    "bucket = bucket.split(\",\")\n",
    "\n",
    "# random objects from online generator. https://perchance.org/object\n",
    "# modified to remove duplicates, add measure words (pair of, stick of), remove uncountable nouns (floor, air, etc), and edit plural forms to singular (cars -> car)\n",
    "\n",
    "# although the bucket is 446 items and we sample 20 of these items, the possible responses is much larger than 446. 446 is the maximum number of unique objects this website had."
   ]
  },
  {
   "cell_type": "code",
   "execution_count": 339,
   "metadata": {},
   "outputs": [],
   "source": [
    "def toma_prompt(tries = 5):\n",
    "    toma = np.random.choice(bucket)\n",
    "    not_toma = list(set(bucket) - {toma})\n",
    "    toma_context = 'Ally says to Brandon that she wants to \"find the toma\". She searches a bucket. '\n",
    "\n",
    "    for i in range(tries):\n",
    "        item = np.random.choice(not_toma)\n",
    "        if i == tries-1:\n",
    "            item = toma\n",
    "        toma_context += f'She pulls a {item} out of the bucket. '\n",
    "        if item != toma:\n",
    "            toma_context += f'She frowns and puts the {item} back in the bucket. She continues searching. '\n",
    "        else:\n",
    "            toma_context += f'She smiles and hands the {item} to Brandon. She does not continue searching. Brandon learns that a toma is a '\n",
    "    return toma, toma_context"
   ]
  },
  {
   "cell_type": "code",
   "execution_count": 340,
   "metadata": {},
   "outputs": [],
   "source": [
    "n_tests = 20"
   ]
  },
  {
   "attachments": {},
   "cell_type": "markdown",
   "metadata": {},
   "source": [
    "### toma control"
   ]
  },
  {
   "cell_type": "code",
   "execution_count": 341,
   "metadata": {},
   "outputs": [],
   "source": [
    "toma_controls, toma_control_prompts = [], []\n",
    "for _ in range(n_tests):\n",
    "    toma = np.random.choice(bucket)\n",
    "    toma_controls.append(toma)\n",
    "\n",
    "    toma_control = f'Ally tells Brandom a toma is a {toma}. Brandon learns that a toma is a '\n",
    "    toma_control_prompts.append(toma_control)"
   ]
  },
  {
   "cell_type": "code",
   "execution_count": 342,
   "metadata": {},
   "outputs": [],
   "source": [
    "toma_control_probs = ask_gpt(toma_control_prompts)"
   ]
  },
  {
   "cell_type": "code",
   "execution_count": 343,
   "metadata": {},
   "outputs": [
    {
     "data": {
      "text/html": [
       "<div>\n",
       "<style scoped>\n",
       "    .dataframe tbody tr th:only-of-type {\n",
       "        vertical-align: middle;\n",
       "    }\n",
       "\n",
       "    .dataframe tbody tr th {\n",
       "        vertical-align: top;\n",
       "    }\n",
       "\n",
       "    .dataframe thead th {\n",
       "        text-align: right;\n",
       "    }\n",
       "</style>\n",
       "<table border=\"1\" class=\"dataframe\">\n",
       "  <thead>\n",
       "    <tr style=\"text-align: right;\">\n",
       "      <th></th>\n",
       "      <th>Toma</th>\n",
       "      <th>Completion</th>\n",
       "      <th>Probability</th>\n",
       "      <th>Match</th>\n",
       "    </tr>\n",
       "  </thead>\n",
       "  <tbody>\n",
       "    <tr>\n",
       "      <th>0</th>\n",
       "      <td>hair tie</td>\n",
       "      <td>hair tie.</td>\n",
       "      <td>0.83</td>\n",
       "      <td>True</td>\n",
       "    </tr>\n",
       "    <tr>\n",
       "      <th>1</th>\n",
       "      <td>tweezers</td>\n",
       "      <td>tweezers.</td>\n",
       "      <td>0.81</td>\n",
       "      <td>True</td>\n",
       "    </tr>\n",
       "    <tr>\n",
       "      <th>2</th>\n",
       "      <td>pack of cards</td>\n",
       "      <td>pack of cards.</td>\n",
       "      <td>0.97</td>\n",
       "      <td>True</td>\n",
       "    </tr>\n",
       "    <tr>\n",
       "      <th>3</th>\n",
       "      <td>candlestick</td>\n",
       "      <td>candlestick.</td>\n",
       "      <td>0.97</td>\n",
       "      <td>True</td>\n",
       "    </tr>\n",
       "    <tr>\n",
       "      <th>4</th>\n",
       "      <td>eraser</td>\n",
       "      <td>eraser.</td>\n",
       "      <td>0.93</td>\n",
       "      <td>True</td>\n",
       "    </tr>\n",
       "    <tr>\n",
       "      <th>5</th>\n",
       "      <td>pair of water goggles</td>\n",
       "      <td>pair of water goggles.</td>\n",
       "      <td>0.9</td>\n",
       "      <td>True</td>\n",
       "    </tr>\n",
       "    <tr>\n",
       "      <th>6</th>\n",
       "      <td>egg timer</td>\n",
       "      <td>egg timer.</td>\n",
       "      <td>0.89</td>\n",
       "      <td>True</td>\n",
       "    </tr>\n",
       "    <tr>\n",
       "      <th>7</th>\n",
       "      <td>acorn</td>\n",
       "      <td>type of acorn.</td>\n",
       "      <td>0.76</td>\n",
       "      <td>True</td>\n",
       "    </tr>\n",
       "    <tr>\n",
       "      <th>8</th>\n",
       "      <td>box</td>\n",
       "      <td>box.</td>\n",
       "      <td>0.67</td>\n",
       "      <td>True</td>\n",
       "    </tr>\n",
       "    <tr>\n",
       "      <th>9</th>\n",
       "      <td>bag of rubber bands</td>\n",
       "      <td>bag of rubber bands.</td>\n",
       "      <td>0.98</td>\n",
       "      <td>True</td>\n",
       "    </tr>\n",
       "    <tr>\n",
       "      <th>10</th>\n",
       "      <td>glasses</td>\n",
       "      <td>type of eyeglass frame.</td>\n",
       "      <td>0.83</td>\n",
       "      <td>False</td>\n",
       "    </tr>\n",
       "    <tr>\n",
       "      <th>11</th>\n",
       "      <td>toothpick</td>\n",
       "      <td>toothpick.</td>\n",
       "      <td>0.98</td>\n",
       "      <td>True</td>\n",
       "    </tr>\n",
       "    <tr>\n",
       "      <th>12</th>\n",
       "      <td>nail clippers</td>\n",
       "      <td>nail clippers.</td>\n",
       "      <td>0.71</td>\n",
       "      <td>True</td>\n",
       "    </tr>\n",
       "    <tr>\n",
       "      <th>13</th>\n",
       "      <td>wireless control</td>\n",
       "      <td>wireless remote control.</td>\n",
       "      <td>0.84</td>\n",
       "      <td>False</td>\n",
       "    </tr>\n",
       "    <tr>\n",
       "      <th>14</th>\n",
       "      <td>spatula</td>\n",
       "      <td>spatula.</td>\n",
       "      <td>0.82</td>\n",
       "      <td>True</td>\n",
       "    </tr>\n",
       "    <tr>\n",
       "      <th>15</th>\n",
       "      <td>bottle of syrup</td>\n",
       "      <td>bottle of syrup.</td>\n",
       "      <td>0.98</td>\n",
       "      <td>True</td>\n",
       "    </tr>\n",
       "    <tr>\n",
       "      <th>16</th>\n",
       "      <td>cup</td>\n",
       "      <td>cup.</td>\n",
       "      <td>0.97</td>\n",
       "      <td>True</td>\n",
       "    </tr>\n",
       "    <tr>\n",
       "      <th>17</th>\n",
       "      <td>carrots</td>\n",
       "      <td>type of vegetable, specifically a carrot.</td>\n",
       "      <td>0.95</td>\n",
       "      <td>False</td>\n",
       "    </tr>\n",
       "    <tr>\n",
       "      <th>18</th>\n",
       "      <td>dolphin</td>\n",
       "      <td>type of dolphin.</td>\n",
       "      <td>0.49</td>\n",
       "      <td>True</td>\n",
       "    </tr>\n",
       "    <tr>\n",
       "      <th>19</th>\n",
       "      <td>tiger</td>\n",
       "      <td>tiger.</td>\n",
       "      <td>0.78</td>\n",
       "      <td>True</td>\n",
       "    </tr>\n",
       "  </tbody>\n",
       "</table>\n",
       "</div>"
      ],
      "text/plain": [
       "                     Toma                                 Completion  \\\n",
       "0                hair tie                                  hair tie.   \n",
       "1                tweezers                                  tweezers.   \n",
       "2           pack of cards                             pack of cards.   \n",
       "3             candlestick                               candlestick.   \n",
       "4                  eraser                                    eraser.   \n",
       "5   pair of water goggles                     pair of water goggles.   \n",
       "6               egg timer                                 egg timer.   \n",
       "7                   acorn                             type of acorn.   \n",
       "8                     box                                       box.   \n",
       "9     bag of rubber bands                       bag of rubber bands.   \n",
       "10                glasses                    type of eyeglass frame.   \n",
       "11              toothpick                                 toothpick.   \n",
       "12          nail clippers                             nail clippers.   \n",
       "13       wireless control                   wireless remote control.   \n",
       "14                spatula                                   spatula.   \n",
       "15        bottle of syrup                           bottle of syrup.   \n",
       "16                    cup                                       cup.   \n",
       "17                carrots  type of vegetable, specifically a carrot.   \n",
       "18                dolphin                           type of dolphin.   \n",
       "19                  tiger                                     tiger.   \n",
       "\n",
       "   Probability  Match  \n",
       "0         0.83   True  \n",
       "1         0.81   True  \n",
       "2         0.97   True  \n",
       "3         0.97   True  \n",
       "4         0.93   True  \n",
       "5          0.9   True  \n",
       "6         0.89   True  \n",
       "7         0.76   True  \n",
       "8         0.67   True  \n",
       "9         0.98   True  \n",
       "10        0.83  False  \n",
       "11        0.98   True  \n",
       "12        0.71   True  \n",
       "13        0.84  False  \n",
       "14        0.82   True  \n",
       "15        0.98   True  \n",
       "16        0.97   True  \n",
       "17        0.95  False  \n",
       "18        0.49   True  \n",
       "19        0.78   True  "
      ]
     },
     "execution_count": 343,
     "metadata": {},
     "output_type": "execute_result"
    }
   ],
   "source": [
    "toma_control_df = probs_to_df(toma_controls,toma_control_probs)\n",
    "toma_control_df.rename(columns={'Prompt':'Toma'},inplace=True)\n",
    "toma_control_df['Match'] = toma_control_df.apply(lambda x: x['Toma'] in x['Completion'],axis=1)\n",
    "toma_control_df.to_csv('tom_data/toma_control.csv')\n",
    "toma_control_df"
   ]
  },
  {
   "attachments": {},
   "cell_type": "markdown",
   "metadata": {},
   "source": [
    "### toma"
   ]
  },
  {
   "cell_type": "code",
   "execution_count": 364,
   "metadata": {},
   "outputs": [],
   "source": [
    "for i in range(1):\n",
    "    toma_n_df = pd.DataFrame()\n",
    "    for n in np.arange(1,11,1):\n",
    "        tomas = np.array([toma_prompt(tries=n) for x in range(n_tests)])\n",
    "        tomas, toma_prompts = tomas[:,0], tomas[:,1]\n",
    "\n",
    "        toma_probs = ask_gpt(toma_prompts)\n",
    "\n",
    "        df = probs_to_df(tomas,toma_probs)\n",
    "        df.rename(columns={'Prompt':'Toma'},inplace=True)\n",
    "        df['Match'] = df.apply(lambda x: x['Toma'] in x['Completion'],axis=1)\n",
    "        df['Tries'] = n\n",
    "        df.to_csv(f'tom_data/toma_i{i}n{n}.csv')"
   ]
  },
  {
   "cell_type": "code",
   "execution_count": 367,
   "metadata": {},
   "outputs": [],
   "source": [
    "for i in range(1):\n",
    "    toma_n_df = pd.DataFrame()\n",
    "    for n in np.arange(1,11,1):\n",
    "        df = pd.read_csv(f'tom_data/toma_i{i}n{n}.csv',index_col=0)\n",
    "        toma_n_df = pd.concat([toma_n_df,df])\n",
    "    toma_n_df.reset_index(inplace=True,drop=True)\n",
    "    toma_n_df.to_csv(f'tom_data/toma_i{i}.csv')"
   ]
  },
  {
   "cell_type": "code",
   "execution_count": 372,
   "metadata": {},
   "outputs": [],
   "source": [
    "accuracies = []\n",
    "for i in range(10):\n",
    "    toma_n_df = pd.read_csv(f'tom_data/toma_i{i}.csv',index_col=0)\n",
    "    acc = []\n",
    "    for n in np.arange(1,11,1):\n",
    "        acc.append(toma_n_df[toma_n_df['Tries']==n]['Match'].mean())\n",
    "    accuracies.append(acc)"
   ]
  },
  {
   "cell_type": "code",
   "execution_count": 445,
   "metadata": {},
   "outputs": [
    {
     "data": {
      "image/png": "[encoded data removed]",
      "text/plain": [
       "<Figure size 500x300 with 1 Axes>"
      ]
     },
     "metadata": {},
     "output_type": "display_data"
    }
   ],
   "source": [
    "mean = np.mean(accuracies,axis=0)\n",
    "plt.figure(figsize=(5,3))\n",
    "for i in range(10):\n",
    "    plt.scatter(np.arange(1,11,1),accuracies[i],alpha=0.5,color='cornflowerblue',s=10,marker='x')\n",
    "plt.plot(np.arange(1,11,1),mean,label='Mean',color='darkblue',linewidth=2)\n",
    "plt.xlabel('Number of Searches to Find Toma')\n",
    "plt.ylabel('GPT Accuracy')\n",
    "plt.xticks(np.arange(1,11,1))\n",
    "# make a legend for the mean line and the scatter points\n",
    "mean_line = plt.Line2D((0,1),(0,0), color='darkblue', linestyle='-')\n",
    "scatter = plt.Line2D((0,1),(0,0), color='cornflowerblue', marker='x', linestyle='',alpha=1)\n",
    "plt.legend([mean_line,scatter],['Mean','Individual'],loc='lower right')\n",
    "# caption\n",
    "\n",
    "plt.tight_layout()\n",
    "plt.savefig('tom_data/toma_accuracy.png',dpi=600)\n",
    "plt.show()"
   ]
  },
  {
   "attachments": {},
   "cell_type": "markdown",
   "metadata": {},
   "source": [
    "### variation"
   ]
  },
  {
   "cell_type": "code",
   "execution_count": 283,
   "metadata": {},
   "outputs": [],
   "source": [
    "def toma_preturb(tries = 5):\n",
    "    toma_context = 'Ally says to Brandon that she wants to \"find the toma\". She searches a bucket. '\n",
    "\n",
    "    for i in range(tries):\n",
    "        item = np.random.choice(bucket)\n",
    "        toma_context += f'She pulls a {item} out of the bucket. '\n",
    "        if i == tries-1:\n",
    "            toma_context += f'She is surprised and hands the {item} to Brandon, saying \"Oh, this works too!\". She does not continue searching. Brandon believes a toma is a '\n",
    "        else:\n",
    "            toma_context += f'She frowns and puts the {item} back in the bucket. She continues searching. '"
   ]
  },
  {
   "cell_type": "code",
   "execution_count": 284,
   "metadata": {},
   "outputs": [],
   "source": [
    "toma_preturbs = np.array([toma_prompt(tries=10) for x in range(n_tests)])\n",
    "toma_preturbs, toma_preturbs_prompts = toma_preturbs[:,0], toma_preturbs[:,1]"
   ]
  },
  {
   "cell_type": "code",
   "execution_count": 285,
   "metadata": {},
   "outputs": [],
   "source": [
    "toma_preturbs_probs = ask_gpt(toma_preturbs_prompts)"
   ]
  },
  {
   "cell_type": "code",
   "execution_count": 293,
   "metadata": {},
   "outputs": [
    {
     "data": {
      "text/html": [
       "<div>\n",
       "<style scoped>\n",
       "    .dataframe tbody tr th:only-of-type {\n",
       "        vertical-align: middle;\n",
       "    }\n",
       "\n",
       "    .dataframe tbody tr th {\n",
       "        vertical-align: top;\n",
       "    }\n",
       "\n",
       "    .dataframe thead th {\n",
       "        text-align: right;\n",
       "    }\n",
       "</style>\n",
       "<table border=\"1\" class=\"dataframe\">\n",
       "  <thead>\n",
       "    <tr style=\"text-align: right;\">\n",
       "      <th></th>\n",
       "      <th>Item</th>\n",
       "      <th>Completion</th>\n",
       "      <th>Probability</th>\n",
       "      <th>Match</th>\n",
       "    </tr>\n",
       "  </thead>\n",
       "  <tbody>\n",
       "    <tr>\n",
       "      <th>0</th>\n",
       "      <td>pair of pants</td>\n",
       "      <td>pair of pants.</td>\n",
       "      <td>0.65</td>\n",
       "      <td>True</td>\n",
       "    </tr>\n",
       "    <tr>\n",
       "      <th>1</th>\n",
       "      <td>picture frame</td>\n",
       "      <td>picture frame.</td>\n",
       "      <td>0.51</td>\n",
       "      <td>True</td>\n",
       "    </tr>\n",
       "    <tr>\n",
       "      <th>2</th>\n",
       "      <td>knife</td>\n",
       "      <td>knife.</td>\n",
       "      <td>0.72</td>\n",
       "      <td>True</td>\n",
       "    </tr>\n",
       "    <tr>\n",
       "      <th>3</th>\n",
       "      <td>cookie tin</td>\n",
       "      <td>cookie tin.</td>\n",
       "      <td>0.82</td>\n",
       "      <td>True</td>\n",
       "    </tr>\n",
       "    <tr>\n",
       "      <th>4</th>\n",
       "      <td>hair ribbon</td>\n",
       "      <td>hair ribbon.</td>\n",
       "      <td>0.93</td>\n",
       "      <td>True</td>\n",
       "    </tr>\n",
       "    <tr>\n",
       "      <th>5</th>\n",
       "      <td>bottle</td>\n",
       "      <td>bottle of wine.</td>\n",
       "      <td>0.73</td>\n",
       "      <td>True</td>\n",
       "    </tr>\n",
       "    <tr>\n",
       "      <th>6</th>\n",
       "      <td>box of tissues</td>\n",
       "      <td>box of tissues.</td>\n",
       "      <td>0.51</td>\n",
       "      <td>True</td>\n",
       "    </tr>\n",
       "    <tr>\n",
       "      <th>7</th>\n",
       "      <td>tissue box</td>\n",
       "      <td>tissue box.</td>\n",
       "      <td>0.99</td>\n",
       "      <td>True</td>\n",
       "    </tr>\n",
       "    <tr>\n",
       "      <th>8</th>\n",
       "      <td>bottle of perfume</td>\n",
       "      <td>bottle of perfume.</td>\n",
       "      <td>0.67</td>\n",
       "      <td>True</td>\n",
       "    </tr>\n",
       "    <tr>\n",
       "      <th>9</th>\n",
       "      <td>pair of sunglasses</td>\n",
       "      <td>pair of sunglasses.</td>\n",
       "      <td>0.99</td>\n",
       "      <td>True</td>\n",
       "    </tr>\n",
       "    <tr>\n",
       "      <th>10</th>\n",
       "      <td>knitting needle</td>\n",
       "      <td>knitting needle.</td>\n",
       "      <td>0.94</td>\n",
       "      <td>True</td>\n",
       "    </tr>\n",
       "    <tr>\n",
       "      <th>11</th>\n",
       "      <td>fish</td>\n",
       "      <td>type of fish.</td>\n",
       "      <td>0.47</td>\n",
       "      <td>True</td>\n",
       "    </tr>\n",
       "    <tr>\n",
       "      <th>12</th>\n",
       "      <td>baseball bat</td>\n",
       "      <td>baseball bat.</td>\n",
       "      <td>0.97</td>\n",
       "      <td>True</td>\n",
       "    </tr>\n",
       "    <tr>\n",
       "      <th>13</th>\n",
       "      <td>pocketwatch</td>\n",
       "      <td>pocketwatch.</td>\n",
       "      <td>0.94</td>\n",
       "      <td>True</td>\n",
       "    </tr>\n",
       "    <tr>\n",
       "      <th>14</th>\n",
       "      <td>pair of scissors</td>\n",
       "      <td>pair of scissors.</td>\n",
       "      <td>0.97</td>\n",
       "      <td>True</td>\n",
       "    </tr>\n",
       "    <tr>\n",
       "      <th>15</th>\n",
       "      <td>lipstick</td>\n",
       "      <td>lipstick.</td>\n",
       "      <td>0.95</td>\n",
       "      <td>True</td>\n",
       "    </tr>\n",
       "    <tr>\n",
       "      <th>16</th>\n",
       "      <td>lotion</td>\n",
       "      <td>lotion.</td>\n",
       "      <td>0.63</td>\n",
       "      <td>True</td>\n",
       "    </tr>\n",
       "    <tr>\n",
       "      <th>17</th>\n",
       "      <td>soccer ball</td>\n",
       "      <td>soccer ball.</td>\n",
       "      <td>0.99</td>\n",
       "      <td>True</td>\n",
       "    </tr>\n",
       "    <tr>\n",
       "      <th>18</th>\n",
       "      <td>butter knife</td>\n",
       "      <td>butter knife.</td>\n",
       "      <td>0.89</td>\n",
       "      <td>True</td>\n",
       "    </tr>\n",
       "    <tr>\n",
       "      <th>19</th>\n",
       "      <td>flag</td>\n",
       "      <td>flag.</td>\n",
       "      <td>0.9</td>\n",
       "      <td>True</td>\n",
       "    </tr>\n",
       "  </tbody>\n",
       "</table>\n",
       "</div>"
      ],
      "text/plain": [
       "                  Item           Completion Probability  Match\n",
       "0        pair of pants       pair of pants.        0.65   True\n",
       "1        picture frame       picture frame.        0.51   True\n",
       "2                knife               knife.        0.72   True\n",
       "3           cookie tin          cookie tin.        0.82   True\n",
       "4          hair ribbon         hair ribbon.        0.93   True\n",
       "5               bottle      bottle of wine.        0.73   True\n",
       "6       box of tissues      box of tissues.        0.51   True\n",
       "7           tissue box          tissue box.        0.99   True\n",
       "8    bottle of perfume   bottle of perfume.        0.67   True\n",
       "9   pair of sunglasses  pair of sunglasses.        0.99   True\n",
       "10     knitting needle     knitting needle.        0.94   True\n",
       "11                fish        type of fish.        0.47   True\n",
       "12        baseball bat        baseball bat.        0.97   True\n",
       "13         pocketwatch         pocketwatch.        0.94   True\n",
       "14    pair of scissors    pair of scissors.        0.97   True\n",
       "15            lipstick            lipstick.        0.95   True\n",
       "16              lotion              lotion.        0.63   True\n",
       "17         soccer ball         soccer ball.        0.99   True\n",
       "18        butter knife        butter knife.        0.89   True\n",
       "19                flag                flag.         0.9   True"
      ]
     },
     "execution_count": 293,
     "metadata": {},
     "output_type": "execute_result"
    }
   ],
   "source": [
    "toma_preturb_df = probs_to_df(toma_preturbs,toma_preturbs_probs)\n",
    "toma_preturb_df.rename(columns={'Prompt':'Item'},inplace=True)\n",
    "toma_preturb_df['Match'] = toma_preturb_df.apply(lambda x: x['Item'] in x['Completion'],axis=1)\n",
    "toma_preturb_df.to_csv('tom_data/toma_preturb.csv')\n",
    "toma_preturb_df"
   ]
  }
 ],
 "metadata": {
  "kernelspec": {
   "display_name": "nlp",
   "language": "python",
   "name": "python3"
  },
  "language_info": {
   "codemirror_mode": {
    "name": "ipython",
    "version": 3
   },
   "file_extension": ".py",
   "mimetype": "text/x-python",
   "name": "python",
   "nbconvert_exporter": "python",
   "pygments_lexer": "ipython3",
   "version": "3.9.0"
  },
  "orig_nbformat": 4
 },
 "nbformat": 4,
 "nbformat_minor": 2
}
